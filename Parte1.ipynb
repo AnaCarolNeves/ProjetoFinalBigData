import pandas as pd
import numpy as np


#incluir partes anterioes



#ESTATÍSTICAS PARA FURTO DE VEÍCULOS

array_furto_veiculos = np.array(df_furto_veiculos['furto_veiculos'])

maximo = np.max(array_furto_veiculos)
minimo = np.min(array_furto_veiculos)
media = np.mean(array_furto_veiculos)
mediana = np.median(array_furto_veiculos)
distancia = (media-mediana)/mediana
q1 = np.quantile(array_furto_veiculos, 0.25)
q3 = np.quantile(array_furto_veiculos, 0.75)
iqr = q3 - q1
limite_inferior = q1 - (1.5 * iqr)
limite_superior = q3 + (1.5 * iqr)
print(f'Mínimo: {minimo}')
print(f'Limite Inferior: {limite_inferior}')
print(f'Média: {media}')
print(f'Mediana: {mediana}')
print(f'Distância: {round(distancia * 100 , 2)}%')
print(f'Q1: {q1}')
print(f'Q3: {q3}')
print(f'IQR: {iqr}')
print(f'Máximo: {maximo}')
print(f'Limite Superior: {limite_superior}')

furto_veiculos_outliers = df_furto_veiculos[df_furto_veiculos['furto_veiculos'] > limite_superior]
furto_veiculos_outliers

#Dos 92 municípios do Rio de Janeiro, 55 são outliers para furto de veículos.


#ESTATÍSTICAS PARA FURTO DE TRANSEUNTES

array_furto_transeunte = np.array(df_furto_transeunte['furto_transeunte'])

maximo = np.max(array_furto_transeunte)
minimo = np.min(array_furto_transeunte)
media = np.mean(array_furto_transeunte)
mediana = np.median(array_furto_transeunte)
distancia = (media-mediana)/mediana
q1 = np.quantile(array_furto_transeunte, 0.25)
q3 = np.quantile(array_furto_transeunte, 0.75)
iqr = q3 - q1
limite_inferior = q1 - (1.5 * iqr)
limite_superior = q3 + (1.5 * iqr)
print(f'Mínimo: {minimo}')
print(f'Limite Inferior: {limite_inferior}')
print(f'Média: {media}')
print(f'Mediana: {mediana}')
print(f'Distância: {round(distancia * 100 , 2)}%')
print(f'Q1: {q1}')
print(f'Q3: {q3}')
print(f'IQR: {iqr}')
print(f'Máximo: {maximo}')
print(f'Limite Superior: {limite_superior}')

furto_transeunte_outliers = df_furto_transeunte[df_furto_transeunte['furto_transeunte'] > limite_superior]
furto_transeunte_outliers

#Dos 92 municípios do Rio de Janeiro, 37 são outliers para furto de transeuntes.

#ESTATÍSTICAS PARA FURTO EM COLETIVO

array_furto_coletivo = np.array(df_furto_coletivo['furto_coletivo'])

maximo = np.max(array_furto_coletivo)
minimo = np.min(array_furto_coletivo)
media = np.mean(array_furto_coletivo)
mediana = np.median(array_furto_coletivo)
distancia = (media-mediana)/mediana
q1 = np.quantile(array_furto_coletivo, 0.25)
q3 = np.quantile(array_furto_coletivo, 0.75)
iqr = q3 - q1
limite_inferior = q1 - (1.5 * iqr)
limite_superior = q3 + (1.5 * iqr)
print(f'Mínimo: {minimo}')
print(f'Limite Inferior: {limite_inferior}')
print(f'Média: {media}')
print(f'Mediana: {mediana}')
print(f'Distância: {round(distancia * 100 , 2)}%')
print(f'Q1: {q1}')
print(f'Q3: {q3}')
print(f'IQR: {iqr}')
print(f'Máximo: {maximo}')
print(f'Limite Superior: {limite_superior}')

furto_coletivo_outliers = df_furto_coletivo[df_furto_coletivo['furto_coletivo'] > limite_superior]
furto_coletivo_outliers

#Dos 92 municípios do Rio de Janeiro, 24 são outliers para furto em coletivo.

#ESTATÍSTICAS PARA FURTO DE CELULAR

array_furto_celular = np.array(df_furto_celular['furto_celular'])

maximo = np.max(array_furto_celular)
minimo = np.min(array_furto_celular)
media = np.mean(array_furto_celular)
mediana = np.median(array_furto_celular)
distancia = (media-mediana)/mediana
q1 = np.quantile(array_furto_celular, 0.25)
q3 = np.quantile(array_furto_celular, 0.75)
iqr = q3 - q1
limite_inferior = q1 - (1.5 * iqr)
limite_superior = q3 + (1.5 * iqr)
print(f'Mínimo: {minimo}')
print(f'Limite Inferior: {limite_inferior}')
print(f'Média: {media}')
print(f'Mediana: {mediana}')
print(f'Distância: {round(distancia * 100 , 2)}%')
print(f'Q1: {q1}')
print(f'Q3: {q3}')
print(f'IQR: {iqr}')
print(f'Máximo: {maximo}')
print(f'Limite Superior: {limite_superior}')

furto_celular_outliers = df_furto_celular[df_furto_celular['furto_celular'] > limite_superior]
furto_celular_outliers

#Dos 92 municípios do Rio de Janeiro, 64 são outliers para furto de celular.

#ESTATÍSTICAS PARA FURTO DE BICICLETA

array_furto_bicicleta = np.array(df_furto_bicicleta['furto_bicicleta'])

maximo = np.max(array_furto_bicicleta)
minimo = np.min(array_furto_bicicleta)
media = np.mean(array_furto_bicicleta)
mediana = np.median(array_furto_bicicleta)
distancia = (media-mediana)/mediana
q1 = np.quantile(array_furto_bicicleta, 0.25)
q3 = np.quantile(array_furto_bicicleta, 0.75)
iqr = q3 - q1
limite_inferior = q1 - (1.5 * iqr)
limite_superior = q3 + (1.5 * iqr)
print(f'Mínimo: {minimo}')
print(f'Limite Inferior: {limite_inferior}')
print(f'Média: {media}')
print(f'Mediana: {mediana}')
print(f'Distância: {round(distancia * 100 , 2)}%')
print(f'Q1: {q1}')
print(f'Q3: {q3}')
print(f'IQR: {iqr}')
print(f'Máximo: {maximo}')
print(f'Limite Superior: {limite_superior}')

furto_bicicleta_outliers = df_furto_bicicleta[df_furto_bicicleta['furto_bicicleta'] > limite_superior]
furto_bicicleta_outliers

#Dos 92 municípios do Rio de Janeiro, apenas 8 são outliers para furto de bicicleta.
