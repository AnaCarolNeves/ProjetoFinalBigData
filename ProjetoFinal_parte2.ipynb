{
 "cells": [
  {
   "cell_type": "code",
   "execution_count": 1,
   "metadata": {},
   "outputs": [],
   "source": [
    "import pandas as pd \n",
    "import polars as pl \n",
    "import fastparquet as fp \n",
    "import time"
   ]
  },
  {
   "cell_type": "code",
   "execution_count": 2,
   "metadata": {},
   "outputs": [
    {
     "data": {
      "text/html": [
       "<div><style>\n",
       ".dataframe > thead > tr,\n",
       ".dataframe > tbody > tr {\n",
       "  text-align: right;\n",
       "  white-space: pre-wrap;\n",
       "}\n",
       "</style>\n",
       "<small>shape: (5, 9)</small><table border=\"1\" class=\"dataframe\"><thead><tr><th>MÊS COMPETÊNCIA</th><th>MÊS REFERÊNCIA</th><th>UF</th><th>CÓDIGO MUNICÍPIO SIAFI</th><th>NOME MUNICÍPIO</th><th>CPF FAVORECIDO</th><th>NIS FAVORECIDO</th><th>NOME FAVORECIDO</th><th>VALOR PARCELA</th></tr><tr><td>i64</td><td>i64</td><td>str</td><td>i64</td><td>str</td><td>str</td><td>i64</td><td>str</td><td>str</td></tr></thead><tbody><tr><td>202304</td><td>202304</td><td>&quot;AC&quot;</td><td>643</td><td>&quot;ACRELANDIA&quot;</td><td>&quot;***.833.642-**&quot;</td><td>16167611395</td><td>&quot;ABIGAIL DAGMAR MACHADO&quot;</td><td>&quot;771,00&quot;</td></tr><tr><td>202304</td><td>202304</td><td>&quot;AC&quot;</td><td>643</td><td>&quot;ACRELANDIA&quot;</td><td>&quot;&quot;</td><td>16122034321</td><td>&quot;ABRAAO AMORA SALGUEIRO&quot;</td><td>&quot;600,00&quot;</td></tr><tr><td>202304</td><td>202304</td><td>&quot;AC&quot;</td><td>643</td><td>&quot;ACRELANDIA&quot;</td><td>&quot;***.355.042-**&quot;</td><td>16121660806</td><td>&quot;ABRAAO DA PIEDADE DO NASCIMENT…</td><td>&quot;750,00&quot;</td></tr><tr><td>202304</td><td>202304</td><td>&quot;AC&quot;</td><td>643</td><td>&quot;ACRELANDIA&quot;</td><td>&quot;&quot;</td><td>23655106404</td><td>&quot;ABRAAO SILVA CUNHA&quot;</td><td>&quot;600,00&quot;</td></tr><tr><td>202304</td><td>202304</td><td>&quot;AC&quot;</td><td>643</td><td>&quot;ACRELANDIA&quot;</td><td>&quot;***.050.782-**&quot;</td><td>16094443293</td><td>&quot;ABRAO KEMPNER RUMANZKI&quot;</td><td>&quot;600,00&quot;</td></tr></tbody></table></div>"
      ],
      "text/plain": [
       "shape: (5, 9)\n",
       "┌────────────┬────────────┬─────┬────────────┬───┬────────────┬────────────┬───────────┬───────────┐\n",
       "│ MÊS COMPET ┆ MÊS        ┆ UF  ┆ CÓDIGO     ┆ … ┆ CPF        ┆ NIS        ┆ NOME FAVO ┆ VALOR     │\n",
       "│ ÊNCIA      ┆ REFERÊNCIA ┆ --- ┆ MUNICÍPIO  ┆   ┆ FAVORECIDO ┆ FAVORECIDO ┆ RECIDO    ┆ PARCELA   │\n",
       "│ ---        ┆ ---        ┆ str ┆ SIAFI      ┆   ┆ ---        ┆ ---        ┆ ---       ┆ ---       │\n",
       "│ i64        ┆ i64        ┆     ┆ ---        ┆   ┆ str        ┆ i64        ┆ str       ┆ str       │\n",
       "│            ┆            ┆     ┆ i64        ┆   ┆            ┆            ┆           ┆           │\n",
       "╞════════════╪════════════╪═════╪════════════╪═══╪════════════╪════════════╪═══════════╪═══════════╡\n",
       "│ 202304     ┆ 202304     ┆ AC  ┆ 643        ┆ … ┆ ***.833.64 ┆ 1616761139 ┆ ABIGAIL   ┆ 771,00    │\n",
       "│            ┆            ┆     ┆            ┆   ┆ 2-**       ┆ 5          ┆ DAGMAR    ┆           │\n",
       "│            ┆            ┆     ┆            ┆   ┆            ┆            ┆ MACHADO   ┆           │\n",
       "│ 202304     ┆ 202304     ┆ AC  ┆ 643        ┆ … ┆            ┆ 1612203432 ┆ ABRAAO    ┆ 600,00    │\n",
       "│            ┆            ┆     ┆            ┆   ┆            ┆ 1          ┆ AMORA     ┆           │\n",
       "│            ┆            ┆     ┆            ┆   ┆            ┆            ┆ SALGUEIRO ┆           │\n",
       "│ 202304     ┆ 202304     ┆ AC  ┆ 643        ┆ … ┆ ***.355.04 ┆ 1612166080 ┆ ABRAAO DA ┆ 750,00    │\n",
       "│            ┆            ┆     ┆            ┆   ┆ 2-**       ┆ 6          ┆ PIEDADE   ┆           │\n",
       "│            ┆            ┆     ┆            ┆   ┆            ┆            ┆ DO NASCIM ┆           │\n",
       "│            ┆            ┆     ┆            ┆   ┆            ┆            ┆ ENT…      ┆           │\n",
       "│ 202304     ┆ 202304     ┆ AC  ┆ 643        ┆ … ┆            ┆ 2365510640 ┆ ABRAAO    ┆ 600,00    │\n",
       "│            ┆            ┆     ┆            ┆   ┆            ┆ 4          ┆ SILVA     ┆           │\n",
       "│            ┆            ┆     ┆            ┆   ┆            ┆            ┆ CUNHA     ┆           │\n",
       "│ 202304     ┆ 202304     ┆ AC  ┆ 643        ┆ … ┆ ***.050.78 ┆ 1609444329 ┆ ABRAO     ┆ 600,00    │\n",
       "│            ┆            ┆     ┆            ┆   ┆ 2-**       ┆ 3          ┆ KEMPNER   ┆           │\n",
       "│            ┆            ┆     ┆            ┆   ┆            ┆            ┆ RUMANZKI  ┆           │\n",
       "└────────────┴────────────┴─────┴────────────┴───┴────────────┴────────────┴───────────┴───────────┘"
      ]
     },
     "metadata": {},
     "output_type": "display_data"
    }
   ],
   "source": [
    "#ABRIL, MAIO E JUNHO:\n",
    "abril=pl.read_csv(\"202304_NovoBolsaFamilia.csv\", separator=\";\", encoding=\"latin-1\") \n",
    "maio=pl.read_csv(\"202305_NovoBolsaFamilia.csv\", separator=\";\", encoding=\"latin-1\")\n",
    "junho=pl.read_csv(\"202306_NovoBolsaFamilia.csv\", separator=\";\", encoding=\"latin-1\")\n",
    "\n",
    "df_polars=pl.concat([abril,maio,junho])\n",
    "\n",
    "display(df_polars.head())"
   ]
  },
  {
   "cell_type": "code",
   "execution_count": 3,
   "metadata": {},
   "outputs": [
    {
     "name": "stdout",
     "output_type": "stream",
     "text": [
      "shape: (61_148_557, 9)\n",
      "┌────────────┬────────────┬─────┬────────────┬───┬────────────┬────────────┬───────────┬───────────┐\n",
      "│ MÊS COMPET ┆ MÊS        ┆ UF  ┆ CÓDIGO     ┆ … ┆ CPF        ┆ NIS        ┆ NOME FAVO ┆ VALOR     │\n",
      "│ ÊNCIA      ┆ REFERÊNCIA ┆ --- ┆ MUNICÍPIO  ┆   ┆ FAVORECIDO ┆ FAVORECIDO ┆ RECIDO    ┆ PARCELA   │\n",
      "│ ---        ┆ ---        ┆ str ┆ SIAFI      ┆   ┆ ---        ┆ ---        ┆ ---       ┆ ---       │\n",
      "│ i64        ┆ i64        ┆     ┆ ---        ┆   ┆ str        ┆ i64        ┆ str       ┆ f64       │\n",
      "│            ┆            ┆     ┆ i64        ┆   ┆            ┆            ┆           ┆           │\n",
      "╞════════════╪════════════╪═════╪════════════╪═══╪════════════╪════════════╪═══════════╪═══════════╡\n",
      "│ 202304     ┆ 202304     ┆ AC  ┆ 643        ┆ … ┆ ***.833.64 ┆ 1616761139 ┆ ABIGAIL   ┆ 771.0     │\n",
      "│            ┆            ┆     ┆            ┆   ┆ 2-**       ┆ 5          ┆ DAGMAR    ┆           │\n",
      "│            ┆            ┆     ┆            ┆   ┆            ┆            ┆ MACHADO   ┆           │\n",
      "│ 202304     ┆ 202304     ┆ AC  ┆ 643        ┆ … ┆            ┆ 1612203432 ┆ ABRAAO    ┆ 600.0     │\n",
      "│            ┆            ┆     ┆            ┆   ┆            ┆ 1          ┆ AMORA     ┆           │\n",
      "│            ┆            ┆     ┆            ┆   ┆            ┆            ┆ SALGUEIRO ┆           │\n",
      "│ 202304     ┆ 202304     ┆ AC  ┆ 643        ┆ … ┆ ***.355.04 ┆ 1612166080 ┆ ABRAAO DA ┆ 750.0     │\n",
      "│            ┆            ┆     ┆            ┆   ┆ 2-**       ┆ 6          ┆ PIEDADE   ┆           │\n",
      "│            ┆            ┆     ┆            ┆   ┆            ┆            ┆ DO NASCIM ┆           │\n",
      "│            ┆            ┆     ┆            ┆   ┆            ┆            ┆ ENT…      ┆           │\n",
      "│ 202304     ┆ 202304     ┆ AC  ┆ 643        ┆ … ┆            ┆ 2365510640 ┆ ABRAAO    ┆ 600.0     │\n",
      "│            ┆            ┆     ┆            ┆   ┆            ┆ 4          ┆ SILVA     ┆           │\n",
      "│            ┆            ┆     ┆            ┆   ┆            ┆            ┆ CUNHA     ┆           │\n",
      "│ 202304     ┆ 202304     ┆ AC  ┆ 643        ┆ … ┆ ***.050.78 ┆ 1609444329 ┆ ABRAO     ┆ 600.0     │\n",
      "│            ┆            ┆     ┆            ┆   ┆ 2-**       ┆ 3          ┆ KEMPNER   ┆           │\n",
      "│            ┆            ┆     ┆            ┆   ┆            ┆            ┆ RUMANZKI  ┆           │\n",
      "│ …          ┆ …          ┆ …   ┆ …          ┆ … ┆ …          ┆ …          ┆ …         ┆ …         │\n",
      "│ 202306     ┆ 202306     ┆ TO  ┆ 9643       ┆ … ┆ ***.947.86 ┆ 2070253698 ┆ YASMIM    ┆ 800.0     │\n",
      "│            ┆            ┆     ┆            ┆   ┆ 7-**       ┆ 3          ┆ SILVA     ┆           │\n",
      "│            ┆            ┆     ┆            ┆   ┆            ┆            ┆ FRANCISCO ┆           │\n",
      "│ 202306     ┆ 202306     ┆ TO  ┆ 9643       ┆ … ┆            ┆ 2032432832 ┆ ZEILA     ┆ 600.0     │\n",
      "│            ┆            ┆     ┆            ┆   ┆            ┆ 4          ┆ MARIA     ┆           │\n",
      "│            ┆            ┆     ┆            ┆   ┆            ┆            ┆ BATISTA   ┆           │\n",
      "│ 202306     ┆ 202306     ┆ TO  ┆ 9643       ┆ … ┆ ***.273.19 ┆ 2064488199 ┆ ZENILDE   ┆ 600.0     │\n",
      "│            ┆            ┆     ┆            ┆   ┆ 1-**       ┆ 7          ┆ ALVES DOS ┆           │\n",
      "│            ┆            ┆     ┆            ┆   ┆            ┆            ┆ SANTOS    ┆           │\n",
      "│ 202306     ┆ 202306     ┆ TO  ┆ 9643       ┆ … ┆            ┆ 1905866197 ┆ ZENOLIA   ┆ 600.0     │\n",
      "│            ┆            ┆     ┆            ┆   ┆            ┆ 3          ┆ RAMOS DA  ┆           │\n",
      "│            ┆            ┆     ┆            ┆   ┆            ┆            ┆ SILVA     ┆           │\n",
      "│            ┆            ┆     ┆            ┆   ┆            ┆            ┆ CARVALH…  ┆           │\n",
      "│ 202306     ┆ 202306     ┆ TO  ┆ 9643       ┆ … ┆ ***.822.65 ┆ 2091926382 ┆ ZILMA     ┆ 440.0     │\n",
      "│            ┆            ┆     ┆            ┆   ┆ 1-**       ┆ 2          ┆ ALVES DE  ┆           │\n",
      "│            ┆            ┆     ┆            ┆   ┆            ┆            ┆ BARROS    ┆           │\n",
      "└────────────┴────────────┴─────┴────────────┴───┴────────────┴────────────┴───────────┴───────────┘\n"
     ]
    }
   ],
   "source": [
    "df_polars = df_polars.with_columns(pl.col(\"VALOR PARCELA\").str.replace(\",\",\".\").cast(pl.Float64))\n",
    "\n",
    "print(df_polars)"
   ]
  },
  {
   "cell_type": "code",
   "execution_count": 4,
   "metadata": {},
   "outputs": [],
   "source": [
    "df_polars.write_parquet('trimestre2.parquet')\n"
   ]
  },
  {
   "cell_type": "code",
   "execution_count": 5,
   "metadata": {},
   "outputs": [
    {
     "data": {
      "text/html": [
       "<div><style>\n",
       ".dataframe > thead > tr,\n",
       ".dataframe > tbody > tr {\n",
       "  text-align: right;\n",
       "  white-space: pre-wrap;\n",
       "}\n",
       "</style>\n",
       "<small>shape: (1_684_216, 9)</small><table border=\"1\" class=\"dataframe\"><thead><tr><th>MÊS COMPETÊNCIA</th><th>MÊS REFERÊNCIA</th><th>UF</th><th>CÓDIGO MUNICÍPIO SIAFI</th><th>NOME MUNICÍPIO</th><th>CPF FAVORECIDO</th><th>NIS FAVORECIDO</th><th>NOME FAVORECIDO</th><th>VALOR PARCELA</th></tr><tr><td>i64</td><td>i64</td><td>str</td><td>i64</td><td>str</td><td>str</td><td>i64</td><td>str</td><td>f64</td></tr></thead><tbody><tr><td>202304</td><td>202304</td><td>&quot;RJ&quot;</td><td>6001</td><td>&quot;RIO DE JANEIRO&quot;</td><td>&quot;&quot;</td><td>null</td><td>&quot;*** BENEFICIÁRIO MENOR DE 16 A…</td><td>590.0</td></tr><tr><td>202304</td><td>202304</td><td>&quot;RJ&quot;</td><td>6001</td><td>&quot;RIO DE JANEIRO&quot;</td><td>&quot;&quot;</td><td>null</td><td>&quot;*** BENEFICIÁRIO MENOR DE 16 A…</td><td>400.0</td></tr><tr><td>202304</td><td>202304</td><td>&quot;RJ&quot;</td><td>6001</td><td>&quot;RIO DE JANEIRO&quot;</td><td>&quot;&quot;</td><td>null</td><td>&quot;*** BENEFICIÁRIO MENOR DE 16 A…</td><td>440.0</td></tr><tr><td>202304</td><td>202304</td><td>&quot;RJ&quot;</td><td>6001</td><td>&quot;RIO DE JANEIRO&quot;</td><td>&quot;&quot;</td><td>null</td><td>&quot;*** BENEFICIÁRIO MENOR DE 16 A…</td><td>600.0</td></tr><tr><td>202304</td><td>202304</td><td>&quot;RJ&quot;</td><td>6001</td><td>&quot;RIO DE JANEIRO&quot;</td><td>&quot;***.484.027-**&quot;</td><td>16126539525</td><td>&quot;AARAO DIAS RIOS&quot;</td><td>750.0</td></tr><tr><td>&hellip;</td><td>&hellip;</td><td>&hellip;</td><td>&hellip;</td><td>&hellip;</td><td>&hellip;</td><td>&hellip;</td><td>&hellip;</td><td>&hellip;</td></tr><tr><td>202306</td><td>202306</td><td>&quot;RJ&quot;</td><td>6001</td><td>&quot;RIO DE JANEIRO&quot;</td><td>&quot;&quot;</td><td>21339734321</td><td>&quot;ZULMIRA VIEIRA DA SILVA&quot;</td><td>440.0</td></tr><tr><td>202306</td><td>202306</td><td>&quot;RJ&quot;</td><td>6001</td><td>&quot;RIO DE JANEIRO&quot;</td><td>&quot;***.675.377-**&quot;</td><td>16632293450</td><td>&quot;ZULNARA XAVIER DA SILVA RODRIG…</td><td>600.0</td></tr><tr><td>202306</td><td>202306</td><td>&quot;RJ&quot;</td><td>6001</td><td>&quot;RIO DE JANEIRO&quot;</td><td>&quot;***.890.187-**&quot;</td><td>12164939451</td><td>&quot;ZULZIMAR DOS SANTOS PIRES&quot;</td><td>600.0</td></tr><tr><td>202306</td><td>202306</td><td>&quot;RJ&quot;</td><td>6001</td><td>&quot;RIO DE JANEIRO&quot;</td><td>&quot;***.963.237-**&quot;</td><td>12288562597</td><td>&quot;ZUMILDO BATISTA DOS SANTOS&quot;</td><td>650.0</td></tr><tr><td>202306</td><td>202306</td><td>&quot;RJ&quot;</td><td>6001</td><td>&quot;RIO DE JANEIRO&quot;</td><td>&quot;***.441.847-**&quot;</td><td>20147890920</td><td>&quot;ZUZILENE SANTOS SILVA&quot;</td><td>700.0</td></tr></tbody></table></div>"
      ],
      "text/plain": [
       "shape: (1_684_216, 9)\n",
       "┌────────────┬────────────┬─────┬────────────┬───┬────────────┬────────────┬───────────┬───────────┐\n",
       "│ MÊS COMPET ┆ MÊS        ┆ UF  ┆ CÓDIGO     ┆ … ┆ CPF        ┆ NIS        ┆ NOME FAVO ┆ VALOR     │\n",
       "│ ÊNCIA      ┆ REFERÊNCIA ┆ --- ┆ MUNICÍPIO  ┆   ┆ FAVORECIDO ┆ FAVORECIDO ┆ RECIDO    ┆ PARCELA   │\n",
       "│ ---        ┆ ---        ┆ str ┆ SIAFI      ┆   ┆ ---        ┆ ---        ┆ ---       ┆ ---       │\n",
       "│ i64        ┆ i64        ┆     ┆ ---        ┆   ┆ str        ┆ i64        ┆ str       ┆ f64       │\n",
       "│            ┆            ┆     ┆ i64        ┆   ┆            ┆            ┆           ┆           │\n",
       "╞════════════╪════════════╪═════╪════════════╪═══╪════════════╪════════════╪═══════════╪═══════════╡\n",
       "│ 202304     ┆ 202304     ┆ RJ  ┆ 6001       ┆ … ┆            ┆ null       ┆ *** BENEF ┆ 590.0     │\n",
       "│            ┆            ┆     ┆            ┆   ┆            ┆            ┆ ICIÁRIO   ┆           │\n",
       "│            ┆            ┆     ┆            ┆   ┆            ┆            ┆ MENOR DE  ┆           │\n",
       "│            ┆            ┆     ┆            ┆   ┆            ┆            ┆ 16 A…     ┆           │\n",
       "│ 202304     ┆ 202304     ┆ RJ  ┆ 6001       ┆ … ┆            ┆ null       ┆ *** BENEF ┆ 400.0     │\n",
       "│            ┆            ┆     ┆            ┆   ┆            ┆            ┆ ICIÁRIO   ┆           │\n",
       "│            ┆            ┆     ┆            ┆   ┆            ┆            ┆ MENOR DE  ┆           │\n",
       "│            ┆            ┆     ┆            ┆   ┆            ┆            ┆ 16 A…     ┆           │\n",
       "│ 202304     ┆ 202304     ┆ RJ  ┆ 6001       ┆ … ┆            ┆ null       ┆ *** BENEF ┆ 440.0     │\n",
       "│            ┆            ┆     ┆            ┆   ┆            ┆            ┆ ICIÁRIO   ┆           │\n",
       "│            ┆            ┆     ┆            ┆   ┆            ┆            ┆ MENOR DE  ┆           │\n",
       "│            ┆            ┆     ┆            ┆   ┆            ┆            ┆ 16 A…     ┆           │\n",
       "│ 202304     ┆ 202304     ┆ RJ  ┆ 6001       ┆ … ┆            ┆ null       ┆ *** BENEF ┆ 600.0     │\n",
       "│            ┆            ┆     ┆            ┆   ┆            ┆            ┆ ICIÁRIO   ┆           │\n",
       "│            ┆            ┆     ┆            ┆   ┆            ┆            ┆ MENOR DE  ┆           │\n",
       "│            ┆            ┆     ┆            ┆   ┆            ┆            ┆ 16 A…     ┆           │\n",
       "│ 202304     ┆ 202304     ┆ RJ  ┆ 6001       ┆ … ┆ ***.484.02 ┆ 1612653952 ┆ AARAO     ┆ 750.0     │\n",
       "│            ┆            ┆     ┆            ┆   ┆ 7-**       ┆ 5          ┆ DIAS RIOS ┆           │\n",
       "│ …          ┆ …          ┆ …   ┆ …          ┆ … ┆ …          ┆ …          ┆ …         ┆ …         │\n",
       "│ 202306     ┆ 202306     ┆ RJ  ┆ 6001       ┆ … ┆            ┆ 2133973432 ┆ ZULMIRA   ┆ 440.0     │\n",
       "│            ┆            ┆     ┆            ┆   ┆            ┆ 1          ┆ VIEIRA DA ┆           │\n",
       "│            ┆            ┆     ┆            ┆   ┆            ┆            ┆ SILVA     ┆           │\n",
       "│ 202306     ┆ 202306     ┆ RJ  ┆ 6001       ┆ … ┆ ***.675.37 ┆ 1663229345 ┆ ZULNARA   ┆ 600.0     │\n",
       "│            ┆            ┆     ┆            ┆   ┆ 7-**       ┆ 0          ┆ XAVIER DA ┆           │\n",
       "│            ┆            ┆     ┆            ┆   ┆            ┆            ┆ SILVA     ┆           │\n",
       "│            ┆            ┆     ┆            ┆   ┆            ┆            ┆ RODRIG…   ┆           │\n",
       "│ 202306     ┆ 202306     ┆ RJ  ┆ 6001       ┆ … ┆ ***.890.18 ┆ 1216493945 ┆ ZULZIMAR  ┆ 600.0     │\n",
       "│            ┆            ┆     ┆            ┆   ┆ 7-**       ┆ 1          ┆ DOS       ┆           │\n",
       "│            ┆            ┆     ┆            ┆   ┆            ┆            ┆ SANTOS    ┆           │\n",
       "│            ┆            ┆     ┆            ┆   ┆            ┆            ┆ PIRES     ┆           │\n",
       "│ 202306     ┆ 202306     ┆ RJ  ┆ 6001       ┆ … ┆ ***.963.23 ┆ 1228856259 ┆ ZUMILDO   ┆ 650.0     │\n",
       "│            ┆            ┆     ┆            ┆   ┆ 7-**       ┆ 7          ┆ BATISTA   ┆           │\n",
       "│            ┆            ┆     ┆            ┆   ┆            ┆            ┆ DOS       ┆           │\n",
       "│            ┆            ┆     ┆            ┆   ┆            ┆            ┆ SANTOS    ┆           │\n",
       "│ 202306     ┆ 202306     ┆ RJ  ┆ 6001       ┆ … ┆ ***.441.84 ┆ 2014789092 ┆ ZUZILENE  ┆ 700.0     │\n",
       "│            ┆            ┆     ┆            ┆   ┆ 7-**       ┆ 0          ┆ SANTOS    ┆           │\n",
       "│            ┆            ┆     ┆            ┆   ┆            ┆            ┆ SILVA     ┆           │\n",
       "└────────────┴────────────┴─────┴────────────┴───┴────────────┴────────────┴───────────┴───────────┘"
      ]
     },
     "metadata": {},
     "output_type": "display_data"
    }
   ],
   "source": [
    "df_lazy=pl.scan_parquet('trimestre2.parquet')\n",
    "\n",
    "resultado=(df_lazy.filter(pl.col(\"NOME MUNICÍPIO\")==\"RIO DE JANEIRO\").collect())\n",
    "\n",
    "display(resultado)"
   ]
  },
  {
   "cell_type": "code",
   "execution_count": 19,
   "metadata": {},
   "outputs": [
    {
     "data": {
      "text/html": [
       "<div><style>\n",
       ".dataframe > thead > tr,\n",
       ".dataframe > tbody > tr {\n",
       "  text-align: right;\n",
       "  white-space: pre-wrap;\n",
       "}\n",
       "</style>\n",
       "<small>shape: (27, 2)</small><table border=\"1\" class=\"dataframe\"><thead><tr><th>UF</th><th>VALOR PARCELA</th></tr><tr><td>str</td><td>f64</td></tr></thead><tbody><tr><td>&quot;RR&quot;</td><td>1.39861012e8</td></tr><tr><td>&quot;AP&quot;</td><td>2.44063734e8</td></tr><tr><td>&quot;RO&quot;</td><td>2.46381155e8</td></tr><tr><td>&quot;AC&quot;</td><td>2.62741007e8</td></tr><tr><td>&quot;TO&quot;</td><td>3.09269751e8</td></tr><tr><td>&hellip;</td><td>&hellip;</td></tr><tr><td>&quot;MG&quot;</td><td>3.0873e9</td></tr><tr><td>&quot;PE&quot;</td><td>3.1347e9</td></tr><tr><td>&quot;RJ&quot;</td><td>3.3680e9</td></tr><tr><td>&quot;BA&quot;</td><td>4.7907e9</td></tr><tr><td>&quot;SP&quot;</td><td>4.9071e9</td></tr></tbody></table></div>"
      ],
      "text/plain": [
       "shape: (27, 2)\n",
       "┌─────┬───────────────┐\n",
       "│ UF  ┆ VALOR PARCELA │\n",
       "│ --- ┆ ---           │\n",
       "│ str ┆ f64           │\n",
       "╞═════╪═══════════════╡\n",
       "│ RR  ┆ 1.39861012e8  │\n",
       "│ AP  ┆ 2.44063734e8  │\n",
       "│ RO  ┆ 2.46381155e8  │\n",
       "│ AC  ┆ 2.62741007e8  │\n",
       "│ TO  ┆ 3.09269751e8  │\n",
       "│ …   ┆ …             │\n",
       "│ MG  ┆ 3.0873e9      │\n",
       "│ PE  ┆ 3.1347e9      │\n",
       "│ RJ  ┆ 3.3680e9      │\n",
       "│ BA  ┆ 4.7907e9      │\n",
       "│ SP  ┆ 4.9071e9      │\n",
       "└─────┴───────────────┘"
      ]
     },
     "metadata": {},
     "output_type": "display_data"
    }
   ],
   "source": [
    "df_estados = df_polars.group_by('UF').agg(pl.col('VALOR PARCELA').sum())\n",
    "df_estados = df_estados.sort(\"VALOR PARCELA\")\n",
    "\n",
    "display(df_estados)"
   ]
  },
  {
   "cell_type": "code",
   "execution_count": 7,
   "metadata": {},
   "outputs": [],
   "source": [
    "import matplotlib.pyplot as plt"
   ]
  },
  {
   "cell_type": "code",
   "execution_count": 24,
   "metadata": {},
   "outputs": [],
   "source": [
    "df_estados_pandas = df_estados.to_pandas()"
   ]
  },
  {
   "cell_type": "code",
   "execution_count": 25,
   "metadata": {},
   "outputs": [
    {
     "data": {
      "image/png": "[encoded data removed]",
      "text/plain": [
       "<Figure size 640x480 with 1 Axes>"
      ]
     },
     "metadata": {},
     "output_type": "display_data"
    }
   ],
   "source": [
    "# Plotando o gráfico de barras\n",
    "df_estados_pandas.plot(x='UF', y='VALOR PARCELA', kind='bar')\n",
    "\n",
    "plt.title('Bolsa Família - Por Estado - Valor Total Trimestre2')\n",
    "plt.xlabel('UF')\n",
    "plt.ylabel('Valor Total em Bilhões')\n",
    "\n",
    "plt.show()"
   ]
  },
  {
   "cell_type": "code",
   "execution_count": null,
   "metadata": {},
   "outputs": [],
   "source": []
  }
 ],
 "metadata": {
  "kernelspec": {
   "display_name": "base",
   "language": "python",
   "name": "python3"
  },
  "language_info": {
   "codemirror_mode": {
    "name": "ipython",
    "version": 3
   },
   "file_extension": ".py",
   "mimetype": "text/x-python",
   "name": "python",
   "nbconvert_exporter": "python",
   "pygments_lexer": "ipython3",
   "version": "3.12.7"
  }
 },
 "nbformat": 4,
 "nbformat_minor": 2
}
