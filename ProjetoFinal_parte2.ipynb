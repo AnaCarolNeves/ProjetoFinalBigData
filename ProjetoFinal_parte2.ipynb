{
 "cells": [
  {
   "cell_type": "code",
   "execution_count": 2,
   "metadata": {},
   "outputs": [],
   "source": [
    "import pandas as pd \n",
    "import polars as pl \n",
    "import fastparquet as fp "
   ]
  },
  {
   "cell_type": "code",
   "execution_count": 3,
   "metadata": {},
   "outputs": [
    {
     "data": {
      "text/html": [
       "<div><style>\n",
       ".dataframe > thead > tr,\n",
       ".dataframe > tbody > tr {\n",
       "  text-align: right;\n",
       "  white-space: pre-wrap;\n",
       "}\n",
       "</style>\n",
       "<small>shape: (5, 9)</small><table border=\"1\" class=\"dataframe\"><thead><tr><th>MÊS COMPETÊNCIA</th><th>MÊS REFERÊNCIA</th><th>UF</th><th>CÓDIGO MUNICÍPIO SIAFI</th><th>NOME MUNICÍPIO</th><th>CPF FAVORECIDO</th><th>NIS FAVORECIDO</th><th>NOME FAVORECIDO</th><th>VALOR PARCELA</th></tr><tr><td>i64</td><td>i64</td><td>str</td><td>i64</td><td>str</td><td>str</td><td>i64</td><td>str</td><td>str</td></tr></thead><tbody><tr><td>202304</td><td>202304</td><td>&quot;AC&quot;</td><td>643</td><td>&quot;ACRELANDIA&quot;</td><td>&quot;***.833.642-**&quot;</td><td>16167611395</td><td>&quot;ABIGAIL DAGMAR MACHADO&quot;</td><td>&quot;771,00&quot;</td></tr><tr><td>202304</td><td>202304</td><td>&quot;AC&quot;</td><td>643</td><td>&quot;ACRELANDIA&quot;</td><td>&quot;&quot;</td><td>16122034321</td><td>&quot;ABRAAO AMORA SALGUEIRO&quot;</td><td>&quot;600,00&quot;</td></tr><tr><td>202304</td><td>202304</td><td>&quot;AC&quot;</td><td>643</td><td>&quot;ACRELANDIA&quot;</td><td>&quot;***.355.042-**&quot;</td><td>16121660806</td><td>&quot;ABRAAO DA PIEDADE DO NASCIMENT…</td><td>&quot;750,00&quot;</td></tr><tr><td>202304</td><td>202304</td><td>&quot;AC&quot;</td><td>643</td><td>&quot;ACRELANDIA&quot;</td><td>&quot;&quot;</td><td>23655106404</td><td>&quot;ABRAAO SILVA CUNHA&quot;</td><td>&quot;600,00&quot;</td></tr><tr><td>202304</td><td>202304</td><td>&quot;AC&quot;</td><td>643</td><td>&quot;ACRELANDIA&quot;</td><td>&quot;***.050.782-**&quot;</td><td>16094443293</td><td>&quot;ABRAO KEMPNER RUMANZKI&quot;</td><td>&quot;600,00&quot;</td></tr></tbody></table></div>"
      ],
      "text/plain": [
       "shape: (5, 9)\n",
       "┌────────────┬────────────┬─────┬────────────┬───┬────────────┬────────────┬───────────┬───────────┐\n",
       "│ MÊS COMPET ┆ MÊS        ┆ UF  ┆ CÓDIGO     ┆ … ┆ CPF        ┆ NIS        ┆ NOME FAVO ┆ VALOR     │\n",
       "│ ÊNCIA      ┆ REFERÊNCIA ┆ --- ┆ MUNICÍPIO  ┆   ┆ FAVORECIDO ┆ FAVORECIDO ┆ RECIDO    ┆ PARCELA   │\n",
       "│ ---        ┆ ---        ┆ str ┆ SIAFI      ┆   ┆ ---        ┆ ---        ┆ ---       ┆ ---       │\n",
       "│ i64        ┆ i64        ┆     ┆ ---        ┆   ┆ str        ┆ i64        ┆ str       ┆ str       │\n",
       "│            ┆            ┆     ┆ i64        ┆   ┆            ┆            ┆           ┆           │\n",
       "╞════════════╪════════════╪═════╪════════════╪═══╪════════════╪════════════╪═══════════╪═══════════╡\n",
       "│ 202304     ┆ 202304     ┆ AC  ┆ 643        ┆ … ┆ ***.833.64 ┆ 1616761139 ┆ ABIGAIL   ┆ 771,00    │\n",
       "│            ┆            ┆     ┆            ┆   ┆ 2-**       ┆ 5          ┆ DAGMAR    ┆           │\n",
       "│            ┆            ┆     ┆            ┆   ┆            ┆            ┆ MACHADO   ┆           │\n",
       "│ 202304     ┆ 202304     ┆ AC  ┆ 643        ┆ … ┆            ┆ 1612203432 ┆ ABRAAO    ┆ 600,00    │\n",
       "│            ┆            ┆     ┆            ┆   ┆            ┆ 1          ┆ AMORA     ┆           │\n",
       "│            ┆            ┆     ┆            ┆   ┆            ┆            ┆ SALGUEIRO ┆           │\n",
       "│ 202304     ┆ 202304     ┆ AC  ┆ 643        ┆ … ┆ ***.355.04 ┆ 1612166080 ┆ ABRAAO DA ┆ 750,00    │\n",
       "│            ┆            ┆     ┆            ┆   ┆ 2-**       ┆ 6          ┆ PIEDADE   ┆           │\n",
       "│            ┆            ┆     ┆            ┆   ┆            ┆            ┆ DO NASCIM ┆           │\n",
       "│            ┆            ┆     ┆            ┆   ┆            ┆            ┆ ENT…      ┆           │\n",
       "│ 202304     ┆ 202304     ┆ AC  ┆ 643        ┆ … ┆            ┆ 2365510640 ┆ ABRAAO    ┆ 600,00    │\n",
       "│            ┆            ┆     ┆            ┆   ┆            ┆ 4          ┆ SILVA     ┆           │\n",
       "│            ┆            ┆     ┆            ┆   ┆            ┆            ┆ CUNHA     ┆           │\n",
       "│ 202304     ┆ 202304     ┆ AC  ┆ 643        ┆ … ┆ ***.050.78 ┆ 1609444329 ┆ ABRAO     ┆ 600,00    │\n",
       "│            ┆            ┆     ┆            ┆   ┆ 2-**       ┆ 3          ┆ KEMPNER   ┆           │\n",
       "│            ┆            ┆     ┆            ┆   ┆            ┆            ┆ RUMANZKI  ┆           │\n",
       "└────────────┴────────────┴─────┴────────────┴───┴────────────┴────────────┴───────────┴───────────┘"
      ]
     },
     "metadata": {},
     "output_type": "display_data"
    }
   ],
   "source": [
    "#ABRIL, MAIO E JUNHO:\n",
    "abril=pl.read_csv(\"202304_NovoBolsaFamilia.csv\", separator=\";\", encoding=\"latin-1\") \n",
    "maio=pl.read_csv(\"202305_NovoBolsaFamilia.csv\", separator=\";\", encoding=\"latin-1\")\n",
    "junho=pl.read_csv(\"202306_NovoBolsaFamilia.csv\", separator=\";\", encoding=\"latin-1\")\n",
    "\n",
    "df_polars=pl.concat([abril,maio,junho])\n",
    "\n",
    "display(df_polars.head())\n"
   ]
  },
  {
   "cell_type": "code",
   "execution_count": 4,
   "metadata": {},
   "outputs": [
    {
     "ename": "",
     "evalue": "",
     "output_type": "error",
     "traceback": [
      "\u001b[1;31mThe Kernel crashed while executing code in the current cell or a previous cell. \n",
      "\u001b[1;31mPlease review the code in the cell(s) to identify a possible cause of the failure. \n",
      "\u001b[1;31mClick <a href='https://aka.ms/vscodeJupyterKernelCrash'>here</a> for more info. \n",
      "\u001b[1;31mView Jupyter <a href='command:jupyter.viewOutput'>log</a> for further details."
     ]
    }
   ],
   "source": [
    "df_polars.write_parquet('trimestre2.parquet')\n"
   ]
  }
 ],
 "metadata": {
  "kernelspec": {
   "display_name": "Python 3",
   "language": "python",
   "name": "python3"
  },
  "language_info": {
   "codemirror_mode": {
    "name": "ipython",
    "version": 3
   },
   "file_extension": ".py",
   "mimetype": "text/x-python",
   "name": "python",
   "nbconvert_exporter": "python",
   "pygments_lexer": "ipython3",
   "version": "3.12.4"
  }
 },
 "nbformat": 4,
 "nbformat_minor": 2
}
