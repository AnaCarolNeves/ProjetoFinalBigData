{
 "cells": [
  {
   "cell_type": "code",
   "execution_count": 1,
   "metadata": {},
   "outputs": [],
   "source": [
    "import pandas as pd \n",
    "import polars as pl \n",
    "import fastparquet as fp \n",
    "import time"
    "import matplotlib.pyplot as plt"
   ]
  },
  {
   "cell_type": "code",
   "execution_count": 2,
   "metadata": {},
   "outputs": [
    {
     "data": {
      "text/html": [
       "<div><style>\n",
       ".dataframe > thead > tr,\n",
       ".dataframe > tbody > tr {\n",
       "  text-align: right;\n",
       "  white-space: pre-wrap;\n",
       "}\n",
       "</style>\n",
       "<small>shape: (5, 9)</small><table border=\"1\" class=\"dataframe\"><thead><tr><th>MÊS COMPETÊNCIA</th><th>MÊS REFERÊNCIA</th><th>UF</th><th>CÓDIGO MUNICÍPIO SIAFI</th><th>NOME MUNICÍPIO</th><th>CPF FAVORECIDO</th><th>NIS FAVORECIDO</th><th>NOME FAVORECIDO</th><th>VALOR PARCELA</th></tr><tr><td>i64</td><td>i64</td><td>str</td><td>i64</td><td>str</td><td>str</td><td>i64</td><td>str</td><td>str</td></tr></thead><tbody><tr><td>202304</td><td>202304</td><td>&quot;AC&quot;</td><td>643</td><td>&quot;ACRELANDIA&quot;</td><td>&quot;***.833.642-**&quot;</td><td>16167611395</td><td>&quot;ABIGAIL DAGMAR MACHADO&quot;</td><td>&quot;771,00&quot;</td></tr><tr><td>202304</td><td>202304</td><td>&quot;AC&quot;</td><td>643</td><td>&quot;ACRELANDIA&quot;</td><td>&quot;&quot;</td><td>16122034321</td><td>&quot;ABRAAO AMORA SALGUEIRO&quot;</td><td>&quot;600,00&quot;</td></tr><tr><td>202304</td><td>202304</td><td>&quot;AC&quot;</td><td>643</td><td>&quot;ACRELANDIA&quot;</td><td>&quot;***.355.042-**&quot;</td><td>16121660806</td><td>&quot;ABRAAO DA PIEDADE DO NASCIMENT…</td><td>&quot;750,00&quot;</td></tr><tr><td>202304</td><td>202304</td><td>&quot;AC&quot;</td><td>643</td><td>&quot;ACRELANDIA&quot;</td><td>&quot;&quot;</td><td>23655106404</td><td>&quot;ABRAAO SILVA CUNHA&quot;</td><td>&quot;600,00&quot;</td></tr><tr><td>202304</td><td>202304</td><td>&quot;AC&quot;</td><td>643</td><td>&quot;ACRELANDIA&quot;</td><td>&quot;***.050.782-**&quot;</td><td>16094443293</td><td>&quot;ABRAO KEMPNER RUMANZKI&quot;</td><td>&quot;600,00&quot;</td></tr></tbody></table></div>"
      ],
      "text/plain": [
       "shape: (5, 9)\n",
       "┌────────────┬────────────┬─────┬────────────┬───┬────────────┬────────────┬───────────┬───────────┐\n",
       "│ MÊS COMPET ┆ MÊS        ┆ UF  ┆ CÓDIGO     ┆ … ┆ CPF        ┆ NIS        ┆ NOME FAVO ┆ VALOR     │\n",
       "│ ÊNCIA      ┆ REFERÊNCIA ┆ --- ┆ MUNICÍPIO  ┆   ┆ FAVORECIDO ┆ FAVORECIDO ┆ RECIDO    ┆ PARCELA   │\n",
       "│ ---        ┆ ---        ┆ str ┆ SIAFI      ┆   ┆ ---        ┆ ---        ┆ ---       ┆ ---       │\n",
       "│ i64        ┆ i64        ┆     ┆ ---        ┆   ┆ str        ┆ i64        ┆ str       ┆ str       │\n",
       "│            ┆            ┆     ┆ i64        ┆   ┆            ┆            ┆           ┆           │\n",
       "╞════════════╪════════════╪═════╪════════════╪═══╪════════════╪════════════╪═══════════╪═══════════╡\n",
       "│ 202304     ┆ 202304     ┆ AC  ┆ 643        ┆ … ┆ ***.833.64 ┆ 1616761139 ┆ ABIGAIL   ┆ 771,00    │\n",
       "│            ┆            ┆     ┆            ┆   ┆ 2-**       ┆ 5          ┆ DAGMAR    ┆           │\n",
       "│            ┆            ┆     ┆            ┆   ┆            ┆            ┆ MACHADO   ┆           │\n",
       "│ 202304     ┆ 202304     ┆ AC  ┆ 643        ┆ … ┆            ┆ 1612203432 ┆ ABRAAO    ┆ 600,00    │\n",
       "│            ┆            ┆     ┆            ┆   ┆            ┆ 1          ┆ AMORA     ┆           │\n",
       "│            ┆            ┆     ┆            ┆   ┆            ┆            ┆ SALGUEIRO ┆           │\n",
       "│ 202304     ┆ 202304     ┆ AC  ┆ 643        ┆ … ┆ ***.355.04 ┆ 1612166080 ┆ ABRAAO DA ┆ 750,00    │\n",
       "│            ┆            ┆     ┆            ┆   ┆ 2-**       ┆ 6          ┆ PIEDADE   ┆           │\n",
       "│            ┆            ┆     ┆            ┆   ┆            ┆            ┆ DO NASCIM ┆           │\n",
       "│            ┆            ┆     ┆            ┆   ┆            ┆            ┆ ENT…      ┆           │\n",
       "│ 202304     ┆ 202304     ┆ AC  ┆ 643        ┆ … ┆            ┆ 2365510640 ┆ ABRAAO    ┆ 600,00    │\n",
       "│            ┆            ┆     ┆            ┆   ┆            ┆ 4          ┆ SILVA     ┆           │\n",
       "│            ┆            ┆     ┆            ┆   ┆            ┆            ┆ CUNHA     ┆           │\n",
       "│ 202304     ┆ 202304     ┆ AC  ┆ 643        ┆ … ┆ ***.050.78 ┆ 1609444329 ┆ ABRAO     ┆ 600,00    │\n",
       "│            ┆            ┆     ┆            ┆   ┆ 2-**       ┆ 3          ┆ KEMPNER   ┆           │\n",
       "│            ┆            ┆     ┆            ┆   ┆            ┆            ┆ RUMANZKI  ┆           │\n",
       "└────────────┴────────────┴─────┴────────────┴───┴────────────┴────────────┴───────────┴───────────┘"
      ]
     },
     "metadata": {},
     "output_type": "display_data"
    }
   ],
   "source": [
    "#ABRIL, MAIO E JUNHO:\n",
    "abril=pl.read_csv(\"202304_NovoBolsaFamilia.csv\", separator=\";\", encoding=\"latin-1\") \n",
    "maio=pl.read_csv(\"202305_NovoBolsaFamilia.csv\", separator=\";\", encoding=\"latin-1\")\n",
    "junho=pl.read_csv(\"202306_NovoBolsaFamilia.csv\", separator=\";\", encoding=\"latin-1\")\n",
    "\n",
    "df_polars=pl.concat([abril,maio,junho])\n",
    "\n",
    "display(df_polars.head())"
   ]
  },
  {
   "cell_type": "code",
   "execution_count": 3,
   "metadata": {},
   "outputs": [
    {
     "name": "stdout",
     "output_type": "stream",
     "text": [
      "shape: (61_148_557, 9)\n",
      "┌────────────┬────────────┬─────┬────────────┬───┬────────────┬────────────┬───────────┬───────────┐\n",
      "│ MÊS COMPET ┆ MÊS        ┆ UF  ┆ CÓDIGO     ┆ … ┆ CPF        ┆ NIS        ┆ NOME FAVO ┆ VALOR     │\n",
      "│ ÊNCIA      ┆ REFERÊNCIA ┆ --- ┆ MUNICÍPIO  ┆   ┆ FAVORECIDO ┆ FAVORECIDO ┆ RECIDO    ┆ PARCELA   │\n",
      "│ ---        ┆ ---        ┆ str ┆ SIAFI      ┆   ┆ ---        ┆ ---        ┆ ---       ┆ ---       │\n",
      "│ i64        ┆ i64        ┆     ┆ ---        ┆   ┆ str        ┆ i64        ┆ str       ┆ f64       │\n",
      "│            ┆            ┆     ┆ i64        ┆   ┆            ┆            ┆           ┆           │\n",
      "╞════════════╪════════════╪═════╪════════════╪═══╪════════════╪════════════╪═══════════╪═══════════╡\n",
      "│ 202304     ┆ 202304     ┆ AC  ┆ 643        ┆ … ┆ ***.833.64 ┆ 1616761139 ┆ ABIGAIL   ┆ 771.0     │\n",
      "│            ┆            ┆     ┆            ┆   ┆ 2-**       ┆ 5          ┆ DAGMAR    ┆           │\n",
      "│            ┆            ┆     ┆            ┆   ┆            ┆            ┆ MACHADO   ┆           │\n",
      "│ 202304     ┆ 202304     ┆ AC  ┆ 643        ┆ … ┆            ┆ 1612203432 ┆ ABRAAO    ┆ 600.0     │\n",
      "│            ┆            ┆     ┆            ┆   ┆            ┆ 1          ┆ AMORA     ┆           │\n",
      "│            ┆            ┆     ┆            ┆   ┆            ┆            ┆ SALGUEIRO ┆           │\n",
      "│ 202304     ┆ 202304     ┆ AC  ┆ 643        ┆ … ┆ ***.355.04 ┆ 1612166080 ┆ ABRAAO DA ┆ 750.0     │\n",
      "│            ┆            ┆     ┆            ┆   ┆ 2-**       ┆ 6          ┆ PIEDADE   ┆           │\n",
      "│            ┆            ┆     ┆            ┆   ┆            ┆            ┆ DO NASCIM ┆           │\n",
      "│            ┆            ┆     ┆            ┆   ┆            ┆            ┆ ENT…      ┆           │\n",
      "│ 202304     ┆ 202304     ┆ AC  ┆ 643        ┆ … ┆            ┆ 2365510640 ┆ ABRAAO    ┆ 600.0     │\n",
      "│            ┆            ┆     ┆            ┆   ┆            ┆ 4          ┆ SILVA     ┆           │\n",
      "│            ┆            ┆     ┆            ┆   ┆            ┆            ┆ CUNHA     ┆           │\n",
      "│ 202304     ┆ 202304     ┆ AC  ┆ 643        ┆ … ┆ ***.050.78 ┆ 1609444329 ┆ ABRAO     ┆ 600.0     │\n",
      "│            ┆            ┆     ┆            ┆   ┆ 2-**       ┆ 3          ┆ KEMPNER   ┆           │\n",
      "│            ┆            ┆     ┆            ┆   ┆            ┆            ┆ RUMANZKI  ┆           │\n",
      "│ …          ┆ …          ┆ …   ┆ …          ┆ … ┆ …          ┆ …          ┆ …         ┆ …         │\n",
      "│ 202306     ┆ 202306     ┆ TO  ┆ 9643       ┆ … ┆ ***.947.86 ┆ 2070253698 ┆ YASMIM    ┆ 800.0     │\n",
      "│            ┆            ┆     ┆            ┆   ┆ 7-**       ┆ 3          ┆ SILVA     ┆           │\n",
      "│            ┆            ┆     ┆            ┆   ┆            ┆            ┆ FRANCISCO ┆           │\n",
      "│ 202306     ┆ 202306     ┆ TO  ┆ 9643       ┆ … ┆            ┆ 2032432832 ┆ ZEILA     ┆ 600.0     │\n",
      "│            ┆            ┆     ┆            ┆   ┆            ┆ 4          ┆ MARIA     ┆           │\n",
      "│            ┆            ┆     ┆            ┆   ┆            ┆            ┆ BATISTA   ┆           │\n",
      "│ 202306     ┆ 202306     ┆ TO  ┆ 9643       ┆ … ┆ ***.273.19 ┆ 2064488199 ┆ ZENILDE   ┆ 600.0     │\n",
      "│            ┆            ┆     ┆            ┆   ┆ 1-**       ┆ 7          ┆ ALVES DOS ┆           │\n",
      "│            ┆            ┆     ┆            ┆   ┆            ┆            ┆ SANTOS    ┆           │\n",
      "│ 202306     ┆ 202306     ┆ TO  ┆ 9643       ┆ … ┆            ┆ 1905866197 ┆ ZENOLIA   ┆ 600.0     │\n",
      "│            ┆            ┆     ┆            ┆   ┆            ┆ 3          ┆ RAMOS DA  ┆           │\n",
      "│            ┆            ┆     ┆            ┆   ┆            ┆            ┆ SILVA     ┆           │\n",
      "│            ┆            ┆     ┆            ┆   ┆            ┆            ┆ CARVALH…  ┆           │\n",
      "│ 202306     ┆ 202306     ┆ TO  ┆ 9643       ┆ … ┆ ***.822.65 ┆ 2091926382 ┆ ZILMA     ┆ 440.0     │\n",
      "│            ┆            ┆     ┆            ┆   ┆ 1-**       ┆ 2          ┆ ALVES DE  ┆           │\n",
      "│            ┆            ┆     ┆            ┆   ┆            ┆            ┆ BARROS    ┆           │\n",
      "└────────────┴────────────┴─────┴────────────┴───┴────────────┴────────────┴───────────┴───────────┘\n"
     ]
    }
   ],
   "source": [
    "df_polars = df_polars.with_columns(pl.col(\"VALOR PARCELA\").str.replace(\",\",\".\").cast(pl.Float64))\n",
    "\n",
    "print(df_polars)"
   ]
  },
  {
   "cell_type": "code",
   "execution_count": 4,
   "metadata": {},
   "outputs": [],
   "source": [
    "df_polars.write_parquet('trimestre2.parquet')\n"
   ]
  },
  {
   "cell_type": "code",
   "execution_count": 5,
   "metadata": {},
   "outputs": [
    {
     "data": {
      "text/html": [
       "<div><style>\n",
       ".dataframe > thead > tr,\n",
       ".dataframe > tbody > tr {\n",
       "  text-align: right;\n",
       "  white-space: pre-wrap;\n",
       "}\n",
       "</style>\n",
       "<small>shape: (1_684_216, 9)</small><table border=\"1\" class=\"dataframe\"><thead><tr><th>MÊS COMPETÊNCIA</th><th>MÊS REFERÊNCIA</th><th>UF</th><th>CÓDIGO MUNICÍPIO SIAFI</th><th>NOME MUNICÍPIO</th><th>CPF FAVORECIDO</th><th>NIS FAVORECIDO</th><th>NOME FAVORECIDO</th><th>VALOR PARCELA</th></tr><tr><td>i64</td><td>i64</td><td>str</td><td>i64</td><td>str</td><td>str</td><td>i64</td><td>str</td><td>f64</td></tr></thead><tbody><tr><td>202304</td><td>202304</td><td>&quot;RJ&quot;</td><td>6001</td><td>&quot;RIO DE JANEIRO&quot;</td><td>&quot;&quot;</td><td>null</td><td>&quot;*** BENEFICIÁRIO MENOR DE 16 A…</td><td>590.0</td></tr><tr><td>202304</td><td>202304</td><td>&quot;RJ&quot;</td><td>6001</td><td>&quot;RIO DE JANEIRO&quot;</td><td>&quot;&quot;</td><td>null</td><td>&quot;*** BENEFICIÁRIO MENOR DE 16 A…</td><td>400.0</td></tr><tr><td>202304</td><td>202304</td><td>&quot;RJ&quot;</td><td>6001</td><td>&quot;RIO DE JANEIRO&quot;</td><td>&quot;&quot;</td><td>null</td><td>&quot;*** BENEFICIÁRIO MENOR DE 16 A…</td><td>440.0</td></tr><tr><td>202304</td><td>202304</td><td>&quot;RJ&quot;</td><td>6001</td><td>&quot;RIO DE JANEIRO&quot;</td><td>&quot;&quot;</td><td>null</td><td>&quot;*** BENEFICIÁRIO MENOR DE 16 A…</td><td>600.0</td></tr><tr><td>202304</td><td>202304</td><td>&quot;RJ&quot;</td><td>6001</td><td>&quot;RIO DE JANEIRO&quot;</td><td>&quot;***.484.027-**&quot;</td><td>16126539525</td><td>&quot;AARAO DIAS RIOS&quot;</td><td>750.0</td></tr><tr><td>&hellip;</td><td>&hellip;</td><td>&hellip;</td><td>&hellip;</td><td>&hellip;</td><td>&hellip;</td><td>&hellip;</td><td>&hellip;</td><td>&hellip;</td></tr><tr><td>202306</td><td>202306</td><td>&quot;RJ&quot;</td><td>6001</td><td>&quot;RIO DE JANEIRO&quot;</td><td>&quot;&quot;</td><td>21339734321</td><td>&quot;ZULMIRA VIEIRA DA SILVA&quot;</td><td>440.0</td></tr><tr><td>202306</td><td>202306</td><td>&quot;RJ&quot;</td><td>6001</td><td>&quot;RIO DE JANEIRO&quot;</td><td>&quot;***.675.377-**&quot;</td><td>16632293450</td><td>&quot;ZULNARA XAVIER DA SILVA RODRIG…</td><td>600.0</td></tr><tr><td>202306</td><td>202306</td><td>&quot;RJ&quot;</td><td>6001</td><td>&quot;RIO DE JANEIRO&quot;</td><td>&quot;***.890.187-**&quot;</td><td>12164939451</td><td>&quot;ZULZIMAR DOS SANTOS PIRES&quot;</td><td>600.0</td></tr><tr><td>202306</td><td>202306</td><td>&quot;RJ&quot;</td><td>6001</td><td>&quot;RIO DE JANEIRO&quot;</td><td>&quot;***.963.237-**&quot;</td><td>12288562597</td><td>&quot;ZUMILDO BATISTA DOS SANTOS&quot;</td><td>650.0</td></tr><tr><td>202306</td><td>202306</td><td>&quot;RJ&quot;</td><td>6001</td><td>&quot;RIO DE JANEIRO&quot;</td><td>&quot;***.441.847-**&quot;</td><td>20147890920</td><td>&quot;ZUZILENE SANTOS SILVA&quot;</td><td>700.0</td></tr></tbody></table></div>"
      ],
      "text/plain": [
       "shape: (1_684_216, 9)\n",
       "┌────────────┬────────────┬─────┬────────────┬───┬────────────┬────────────┬───────────┬───────────┐\n",
       "│ MÊS COMPET ┆ MÊS        ┆ UF  ┆ CÓDIGO     ┆ … ┆ CPF        ┆ NIS        ┆ NOME FAVO ┆ VALOR     │\n",
       "│ ÊNCIA      ┆ REFERÊNCIA ┆ --- ┆ MUNICÍPIO  ┆   ┆ FAVORECIDO ┆ FAVORECIDO ┆ RECIDO    ┆ PARCELA   │\n",
       "│ ---        ┆ ---        ┆ str ┆ SIAFI      ┆   ┆ ---        ┆ ---        ┆ ---       ┆ ---       │\n",
       "│ i64        ┆ i64        ┆     ┆ ---        ┆   ┆ str        ┆ i64        ┆ str       ┆ f64       │\n",
       "│            ┆            ┆     ┆ i64        ┆   ┆            ┆            ┆           ┆           │\n",
       "╞════════════╪════════════╪═════╪════════════╪═══╪════════════╪════════════╪═══════════╪═══════════╡\n",
       "│ 202304     ┆ 202304     ┆ RJ  ┆ 6001       ┆ … ┆            ┆ null       ┆ *** BENEF ┆ 590.0     │\n",
       "│            ┆            ┆     ┆            ┆   ┆            ┆            ┆ ICIÁRIO   ┆           │\n",
       "│            ┆            ┆     ┆            ┆   ┆            ┆            ┆ MENOR DE  ┆           │\n",
       "│            ┆            ┆     ┆            ┆   ┆            ┆            ┆ 16 A…     ┆           │\n",
       "│ 202304     ┆ 202304     ┆ RJ  ┆ 6001       ┆ … ┆            ┆ null       ┆ *** BENEF ┆ 400.0     │\n",
       "│            ┆            ┆     ┆            ┆   ┆            ┆            ┆ ICIÁRIO   ┆           │\n",
       "│            ┆            ┆     ┆            ┆   ┆            ┆            ┆ MENOR DE  ┆           │\n",
       "│            ┆            ┆     ┆            ┆   ┆            ┆            ┆ 16 A…     ┆           │\n",
       "│ 202304     ┆ 202304     ┆ RJ  ┆ 6001       ┆ … ┆            ┆ null       ┆ *** BENEF ┆ 440.0     │\n",
       "│            ┆            ┆     ┆            ┆   ┆            ┆            ┆ ICIÁRIO   ┆           │\n",
       "│            ┆            ┆     ┆            ┆   ┆            ┆            ┆ MENOR DE  ┆           │\n",
       "│            ┆            ┆     ┆            ┆   ┆            ┆            ┆ 16 A…     ┆           │\n",
       "│ 202304     ┆ 202304     ┆ RJ  ┆ 6001       ┆ … ┆            ┆ null       ┆ *** BENEF ┆ 600.0     │\n",
       "│            ┆            ┆     ┆            ┆   ┆            ┆            ┆ ICIÁRIO   ┆           │\n",
       "│            ┆            ┆     ┆            ┆   ┆            ┆            ┆ MENOR DE  ┆           │\n",
       "│            ┆            ┆     ┆            ┆   ┆            ┆            ┆ 16 A…     ┆           │\n",
       "│ 202304     ┆ 202304     ┆ RJ  ┆ 6001       ┆ … ┆ ***.484.02 ┆ 1612653952 ┆ AARAO     ┆ 750.0     │\n",
       "│            ┆            ┆     ┆            ┆   ┆ 7-**       ┆ 5          ┆ DIAS RIOS ┆           │\n",
       "│ …          ┆ …          ┆ …   ┆ …          ┆ … ┆ …          ┆ …          ┆ …         ┆ …         │\n",
       "│ 202306     ┆ 202306     ┆ RJ  ┆ 6001       ┆ … ┆            ┆ 2133973432 ┆ ZULMIRA   ┆ 440.0     │\n",
       "│            ┆            ┆     ┆            ┆   ┆            ┆ 1          ┆ VIEIRA DA ┆           │\n",
       "│            ┆            ┆     ┆            ┆   ┆            ┆            ┆ SILVA     ┆           │\n",
       "│ 202306     ┆ 202306     ┆ RJ  ┆ 6001       ┆ … ┆ ***.675.37 ┆ 1663229345 ┆ ZULNARA   ┆ 600.0     │\n",
       "│            ┆            ┆     ┆            ┆   ┆ 7-**       ┆ 0          ┆ XAVIER DA ┆           │\n",
       "│            ┆            ┆     ┆            ┆   ┆            ┆            ┆ SILVA     ┆           │\n",
       "│            ┆            ┆     ┆            ┆   ┆            ┆            ┆ RODRIG…   ┆           │\n",
       "│ 202306     ┆ 202306     ┆ RJ  ┆ 6001       ┆ … ┆ ***.890.18 ┆ 1216493945 ┆ ZULZIMAR  ┆ 600.0     │\n",
       "│            ┆            ┆     ┆            ┆   ┆ 7-**       ┆ 1          ┆ DOS       ┆           │\n",
       "│            ┆            ┆     ┆            ┆   ┆            ┆            ┆ SANTOS    ┆           │\n",
       "│            ┆            ┆     ┆            ┆   ┆            ┆            ┆ PIRES     ┆           │\n",
       "│ 202306     ┆ 202306     ┆ RJ  ┆ 6001       ┆ … ┆ ***.963.23 ┆ 1228856259 ┆ ZUMILDO   ┆ 650.0     │\n",
       "│            ┆            ┆     ┆            ┆   ┆ 7-**       ┆ 7          ┆ BATISTA   ┆           │\n",
       "│            ┆            ┆     ┆            ┆   ┆            ┆            ┆ DOS       ┆           │\n",
       "│            ┆            ┆     ┆            ┆   ┆            ┆            ┆ SANTOS    ┆           │\n",
       "│ 202306     ┆ 202306     ┆ RJ  ┆ 6001       ┆ … ┆ ***.441.84 ┆ 2014789092 ┆ ZUZILENE  ┆ 700.0     │\n",
       "│            ┆            ┆     ┆            ┆   ┆ 7-**       ┆ 0          ┆ SANTOS    ┆           │\n",
       "│            ┆            ┆     ┆            ┆   ┆            ┆            ┆ SILVA     ┆           │\n",
       "└────────────┴────────────┴─────┴────────────┴───┴────────────┴────────────┴───────────┴───────────┘"
      ]
     },
     "metadata": {},
     "output_type": "display_data"
    }
   ],
   "source": [
    "df_lazy=pl.scan_parquet('trimestre2.parquet')\n",
    "\n",
    "resultado=(df_lazy.filter(pl.col(\"NOME MUNICÍPIO\")==\"RIO DE JANEIRO\").collect())\n",
    "\n",
    "display(resultado)"
   ]
  },
  {
   "cell_type": "code",
   "execution_count": 6,
   "metadata": {},
   "outputs": [
    {
     "data": {
      "text/html": [
       "<div><style>\n",
       ".dataframe > thead > tr,\n",
       ".dataframe > tbody > tr {\n",
       "  text-align: right;\n",
       "  white-space: pre-wrap;\n",
       "}\n",
       "</style>\n",
       "<small>shape: (27, 2)</small><table border=\"1\" class=\"dataframe\"><thead><tr><th>UF</th><th>VALOR PARCELA</th></tr><tr><td>str</td><td>f64</td></tr></thead><tbody><tr><td>&quot;RR&quot;</td><td>1.39861012e8</td></tr><tr><td>&quot;AP&quot;</td><td>2.44063734e8</td></tr><tr><td>&quot;RO&quot;</td><td>2.46381155e8</td></tr><tr><td>&quot;AC&quot;</td><td>2.62741007e8</td></tr><tr><td>&quot;TO&quot;</td><td>3.09269751e8</td></tr><tr><td>&hellip;</td><td>&hellip;</td></tr><tr><td>&quot;MG&quot;</td><td>3.0873e9</td></tr><tr><td>&quot;PE&quot;</td><td>3.1347e9</td></tr><tr><td>&quot;RJ&quot;</td><td>3.3680e9</td></tr><tr><td>&quot;BA&quot;</td><td>4.7907e9</td></tr><tr><td>&quot;SP&quot;</td><td>4.9071e9</td></tr></tbody></table></div>"
      ],
      "text/plain": [
       "shape: (27, 2)\n",
       "┌─────┬───────────────┐\n",
       "│ UF  ┆ VALOR PARCELA │\n",
       "│ --- ┆ ---           │\n",
       "│ str ┆ f64           │\n",
       "╞═════╪═══════════════╡\n",
       "│ RR  ┆ 1.39861012e8  │\n",
       "│ AP  ┆ 2.44063734e8  │\n",
       "│ RO  ┆ 2.46381155e8  │\n",
       "│ AC  ┆ 2.62741007e8  │\n",
       "│ TO  ┆ 3.09269751e8  │\n",
       "│ …   ┆ …             │\n",
       "│ MG  ┆ 3.0873e9      │\n",
       "│ PE  ┆ 3.1347e9      │\n",
       "│ RJ  ┆ 3.3680e9      │\n",
       "│ BA  ┆ 4.7907e9      │\n",
       "│ SP  ┆ 4.9071e9      │\n",
       "└─────┴───────────────┘"
      ]
     },
     "metadata": {},
     "output_type": "display_data"
    }
   ],
   "source": [
    "df_estados = df_polars.group_by('UF').agg(pl.col('VALOR PARCELA').sum())\n",
    "df_estados = df_estados.sort(\"VALOR PARCELA\")\n",
    "\n",
    "display(df_estados)"
   ]
  },
  {
   "cell_type": "code",
   "execution_count": 7,
   "metadata": {},
   "outputs": [],
   "source": [
   ]
  },
  {
   "cell_type": "code",
   "execution_count": 8,
   "metadata": {},
   "outputs": [],
   "source": [
    "df_estados_pandas = df_estados.to_pandas()"
   ]
  },
  {
   "cell_type": "code",
   "execution_count": 9,
   "metadata": {},
   "outputs": [
    {
     "data": {
      "image/png": "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",
      "text/plain": [
       "<Figure size 640x480 with 1 Axes>"
      ]
     },
     "metadata": {},
     "output_type": "display_data"
    }
   ],
   "source": [
    "# Plotando o gráfico de barras\n",
    "df_estados_pandas.plot(x='UF', y='VALOR PARCELA', kind='bar')\n",
    "\n",
    "plt.title('Bolsa Família - Por Estado - Valor Total Trimestre2')\n",
    "plt.xlabel('UF')\n",
    "plt.ylabel('Valor Total em Bilhões')\n",
    "\n",
    "plt.show()"
   ]
  },
  {
   "cell_type": "code",
   "execution_count": 11,
   "metadata": {},
   "outputs": [
    {
     "data": {
      "text/html": [
       "<div><style>\n",
       ".dataframe > thead > tr,\n",
       ".dataframe > tbody > tr {\n",
       "  text-align: right;\n",
       "  white-space: pre-wrap;\n",
       "}\n",
       "</style>\n",
       "<small>shape: (9, 2)</small><table border=\"1\" class=\"dataframe\"><thead><tr><th>statistic</th><th>VALOR PARCELA</th></tr><tr><td>str</td><td>f64</td></tr></thead><tbody><tr><td>&quot;count&quot;</td><td>6.1148557e7</td></tr><tr><td>&quot;null_count&quot;</td><td>0.0</td></tr><tr><td>&quot;mean&quot;</td><td>656.640019</td></tr><tr><td>&quot;std&quot;</td><td>140.659607</td></tr><tr><td>&quot;min&quot;</td><td>25.0</td></tr><tr><td>&quot;25%&quot;</td><td>600.0</td></tr><tr><td>&quot;50%&quot;</td><td>600.0</td></tr><tr><td>&quot;75%&quot;</td><td>750.0</td></tr><tr><td>&quot;max&quot;</td><td>4514.0</td></tr></tbody></table></div>"
      ],
      "text/plain": [
       "shape: (9, 2)\n",
       "┌────────────┬───────────────┐\n",
       "│ statistic  ┆ VALOR PARCELA │\n",
       "│ ---        ┆ ---           │\n",
       "│ str        ┆ f64           │\n",
       "╞════════════╪═══════════════╡\n",
       "│ count      ┆ 6.1148557e7   │\n",
       "│ null_count ┆ 0.0           │\n",
       "│ mean       ┆ 656.640019    │\n",
       "│ std        ┆ 140.659607    │\n",
       "│ min        ┆ 25.0          │\n",
       "│ 25%        ┆ 600.0         │\n",
       "│ 50%        ┆ 600.0         │\n",
       "│ 75%        ┆ 750.0         │\n",
       "│ max        ┆ 4514.0        │\n",
       "└────────────┴───────────────┘"
      ]
     },
     "metadata": {},
     "output_type": "display_data"
    }
   ],
   "source": [
    "#Estatísticas Descritivas:\n",
    "display(df_polars.select(pl.col(\"VALOR PARCELA\")).describe())"
   ]
  },
  {
   "cell_type": "code",
   "execution_count": 12,
   "metadata": {},
   "outputs": [
    {
     "data": {
      "text/html": [
       "<div><style>\n",
       ".dataframe > thead > tr,\n",
       ".dataframe > tbody > tr {\n",
       "  text-align: right;\n",
       "  white-space: pre-wrap;\n",
       "}\n",
       "</style>\n",
       "<small>shape: (23, 9)</small><table border=\"1\" class=\"dataframe\"><thead><tr><th>MÊS COMPETÊNCIA</th><th>MÊS REFERÊNCIA</th><th>UF</th><th>CÓDIGO MUNICÍPIO SIAFI</th><th>NOME MUNICÍPIO</th><th>CPF FAVORECIDO</th><th>NIS FAVORECIDO</th><th>NOME FAVORECIDO</th><th>VALOR PARCELA</th></tr><tr><td>i64</td><td>i64</td><td>str</td><td>i64</td><td>str</td><td>str</td><td>i64</td><td>str</td><td>f64</td></tr></thead><tbody><tr><td>202306</td><td>202306</td><td>&quot;AM&quot;</td><td>275</td><td>&quot;SAO PAULO DE OLIVENCA&quot;</td><td>&quot;***.282.612-**&quot;</td><td>16659790420</td><td>&quot;SELMA DA SILVA MARTINS&quot;</td><td>25.0</td></tr><tr><td>202306</td><td>202306</td><td>&quot;BA&quot;</td><td>3849</td><td>&quot;SALVADOR&quot;</td><td>&quot;***.218.315-**&quot;</td><td>20023969495</td><td>&quot;CELIA SILVA DE OLIVEIRA&quot;</td><td>25.0</td></tr><tr><td>202306</td><td>202306</td><td>&quot;CE&quot;</td><td>1389</td><td>&quot;FORTALEZA&quot;</td><td>&quot;***.871.003-**&quot;</td><td>13665908190</td><td>&quot;ROSEANE RIBEIRO DA SILVA&quot;</td><td>25.0</td></tr><tr><td>202306</td><td>202306</td><td>&quot;CE&quot;</td><td>1447</td><td>&quot;JUAZEIRO DO NORTE&quot;</td><td>&quot;***.598.673-**&quot;</td><td>16410947837</td><td>&quot;MARIA DO SOCORRO DANTAS ARAUJO…</td><td>25.0</td></tr><tr><td>202306</td><td>202306</td><td>&quot;ES&quot;</td><td>5631</td><td>&quot;CONCEICAO DA BARRA&quot;</td><td>&quot;***.315.467-**&quot;</td><td>16473779834</td><td>&quot;MARIA DO ROZARIO FERREIRA DA C…</td><td>25.0</td></tr><tr><td>&hellip;</td><td>&hellip;</td><td>&hellip;</td><td>&hellip;</td><td>&hellip;</td><td>&hellip;</td><td>&hellip;</td><td>&hellip;</td><td>&hellip;</td></tr><tr><td>202306</td><td>202306</td><td>&quot;SC&quot;</td><td>8319</td><td>&quot;SAO FRANCISCO DO SUL&quot;</td><td>&quot;***.762.519-**&quot;</td><td>13698345721</td><td>&quot;THAMIRES DE GOES PINHEIRO&quot;</td><td>25.0</td></tr><tr><td>202306</td><td>202306</td><td>&quot;SP&quot;</td><td>6323</td><td>&quot;CATANDUVA&quot;</td><td>&quot;***.858.038-**&quot;</td><td>16303853227</td><td>&quot;JULIANA SIQUEROLLI NASCIMENTO&quot;</td><td>25.0</td></tr><tr><td>202306</td><td>202306</td><td>&quot;SP&quot;</td><td>6429</td><td>&quot;FRANCO DA ROCHA&quot;</td><td>&quot;***.173.848-**&quot;</td><td>16345196984</td><td>&quot;GILVANIA DE JESUS DE ALMEIDA&quot;</td><td>25.0</td></tr><tr><td>202306</td><td>202306</td><td>&quot;SP&quot;</td><td>6809</td><td>&quot;PANORAMA&quot;</td><td>&quot;***.853.188-**&quot;</td><td>23662221655</td><td>&quot;MARIA APARECIDA DOS SANTOS&quot;</td><td>25.0</td></tr><tr><td>202306</td><td>202306</td><td>&quot;SP&quot;</td><td>7121</td><td>&quot;SAO VICENTE&quot;</td><td>&quot;***.086.818-**&quot;</td><td>12021165398</td><td>&quot;IVANY DE OLIVEIRA ALMEIDA&quot;</td><td>25.0</td></tr></tbody></table></div>"
      ],
      "text/plain": [
       "shape: (23, 9)\n",
       "┌────────────┬────────────┬─────┬────────────┬───┬────────────┬────────────┬───────────┬───────────┐\n",
       "│ MÊS COMPET ┆ MÊS        ┆ UF  ┆ CÓDIGO     ┆ … ┆ CPF        ┆ NIS        ┆ NOME FAVO ┆ VALOR     │\n",
       "│ ÊNCIA      ┆ REFERÊNCIA ┆ --- ┆ MUNICÍPIO  ┆   ┆ FAVORECIDO ┆ FAVORECIDO ┆ RECIDO    ┆ PARCELA   │\n",
       "│ ---        ┆ ---        ┆ str ┆ SIAFI      ┆   ┆ ---        ┆ ---        ┆ ---       ┆ ---       │\n",
       "│ i64        ┆ i64        ┆     ┆ ---        ┆   ┆ str        ┆ i64        ┆ str       ┆ f64       │\n",
       "│            ┆            ┆     ┆ i64        ┆   ┆            ┆            ┆           ┆           │\n",
       "╞════════════╪════════════╪═════╪════════════╪═══╪════════════╪════════════╪═══════════╪═══════════╡\n",
       "│ 202306     ┆ 202306     ┆ AM  ┆ 275        ┆ … ┆ ***.282.61 ┆ 1665979042 ┆ SELMA DA  ┆ 25.0      │\n",
       "│            ┆            ┆     ┆            ┆   ┆ 2-**       ┆ 0          ┆ SILVA     ┆           │\n",
       "│            ┆            ┆     ┆            ┆   ┆            ┆            ┆ MARTINS   ┆           │\n",
       "│ 202306     ┆ 202306     ┆ BA  ┆ 3849       ┆ … ┆ ***.218.31 ┆ 2002396949 ┆ CELIA     ┆ 25.0      │\n",
       "│            ┆            ┆     ┆            ┆   ┆ 5-**       ┆ 5          ┆ SILVA DE  ┆           │\n",
       "│            ┆            ┆     ┆            ┆   ┆            ┆            ┆ OLIVEIRA  ┆           │\n",
       "│ 202306     ┆ 202306     ┆ CE  ┆ 1389       ┆ … ┆ ***.871.00 ┆ 1366590819 ┆ ROSEANE   ┆ 25.0      │\n",
       "│            ┆            ┆     ┆            ┆   ┆ 3-**       ┆ 0          ┆ RIBEIRO   ┆           │\n",
       "│            ┆            ┆     ┆            ┆   ┆            ┆            ┆ DA SILVA  ┆           │\n",
       "│ 202306     ┆ 202306     ┆ CE  ┆ 1447       ┆ … ┆ ***.598.67 ┆ 1641094783 ┆ MARIA DO  ┆ 25.0      │\n",
       "│            ┆            ┆     ┆            ┆   ┆ 3-**       ┆ 7          ┆ SOCORRO   ┆           │\n",
       "│            ┆            ┆     ┆            ┆   ┆            ┆            ┆ DANTAS    ┆           │\n",
       "│            ┆            ┆     ┆            ┆   ┆            ┆            ┆ ARAUJO…   ┆           │\n",
       "│ 202306     ┆ 202306     ┆ ES  ┆ 5631       ┆ … ┆ ***.315.46 ┆ 1647377983 ┆ MARIA DO  ┆ 25.0      │\n",
       "│            ┆            ┆     ┆            ┆   ┆ 7-**       ┆ 4          ┆ ROZARIO   ┆           │\n",
       "│            ┆            ┆     ┆            ┆   ┆            ┆            ┆ FERREIRA  ┆           │\n",
       "│            ┆            ┆     ┆            ┆   ┆            ┆            ┆ DA C…     ┆           │\n",
       "│ …          ┆ …          ┆ …   ┆ …          ┆ … ┆ …          ┆ …          ┆ …         ┆ …         │\n",
       "│ 202306     ┆ 202306     ┆ SC  ┆ 8319       ┆ … ┆ ***.762.51 ┆ 1369834572 ┆ THAMIRES  ┆ 25.0      │\n",
       "│            ┆            ┆     ┆            ┆   ┆ 9-**       ┆ 1          ┆ DE GOES   ┆           │\n",
       "│            ┆            ┆     ┆            ┆   ┆            ┆            ┆ PINHEIRO  ┆           │\n",
       "│ 202306     ┆ 202306     ┆ SP  ┆ 6323       ┆ … ┆ ***.858.03 ┆ 1630385322 ┆ JULIANA   ┆ 25.0      │\n",
       "│            ┆            ┆     ┆            ┆   ┆ 8-**       ┆ 7          ┆ SIQUEROLL ┆           │\n",
       "│            ┆            ┆     ┆            ┆   ┆            ┆            ┆ I NASCIME ┆           │\n",
       "│            ┆            ┆     ┆            ┆   ┆            ┆            ┆ NTO       ┆           │\n",
       "│ 202306     ┆ 202306     ┆ SP  ┆ 6429       ┆ … ┆ ***.173.84 ┆ 1634519698 ┆ GILVANIA  ┆ 25.0      │\n",
       "│            ┆            ┆     ┆            ┆   ┆ 8-**       ┆ 4          ┆ DE JESUS  ┆           │\n",
       "│            ┆            ┆     ┆            ┆   ┆            ┆            ┆ DE        ┆           │\n",
       "│            ┆            ┆     ┆            ┆   ┆            ┆            ┆ ALMEIDA   ┆           │\n",
       "│ 202306     ┆ 202306     ┆ SP  ┆ 6809       ┆ … ┆ ***.853.18 ┆ 2366222165 ┆ MARIA     ┆ 25.0      │\n",
       "│            ┆            ┆     ┆            ┆   ┆ 8-**       ┆ 5          ┆ APARECIDA ┆           │\n",
       "│            ┆            ┆     ┆            ┆   ┆            ┆            ┆ DOS       ┆           │\n",
       "│            ┆            ┆     ┆            ┆   ┆            ┆            ┆ SANTOS    ┆           │\n",
       "│ 202306     ┆ 202306     ┆ SP  ┆ 7121       ┆ … ┆ ***.086.81 ┆ 1202116539 ┆ IVANY DE  ┆ 25.0      │\n",
       "│            ┆            ┆     ┆            ┆   ┆ 8-**       ┆ 8          ┆ OLIVEIRA  ┆           │\n",
       "│            ┆            ┆     ┆            ┆   ┆            ┆            ┆ ALMEIDA   ┆           │\n",
       "└────────────┴────────────┴─────┴────────────┴───┴────────────┴────────────┴───────────┴───────────┘"
      ]
     },
     "metadata": {},
     "output_type": "display_data"
    }
   ],
   "source": [
    "display(df_polars.filter(pl.col(\"VALOR PARCELA\")==25.0))"
   ]
  },
  {
   "cell_type": "code",
   "execution_count": 13,
   "metadata": {},
   "outputs": [
    {
     "data": {
      "text/html": [
       "<div><style>\n",
       ".dataframe > thead > tr,\n",
       ".dataframe > tbody > tr {\n",
       "  text-align: right;\n",
       "  white-space: pre-wrap;\n",
       "}\n",
       "</style>\n",
       "<small>shape: (1, 9)</small><table border=\"1\" class=\"dataframe\"><thead><tr><th>MÊS COMPETÊNCIA</th><th>MÊS REFERÊNCIA</th><th>UF</th><th>CÓDIGO MUNICÍPIO SIAFI</th><th>NOME MUNICÍPIO</th><th>CPF FAVORECIDO</th><th>NIS FAVORECIDO</th><th>NOME FAVORECIDO</th><th>VALOR PARCELA</th></tr><tr><td>i64</td><td>i64</td><td>str</td><td>i64</td><td>str</td><td>str</td><td>i64</td><td>str</td><td>f64</td></tr></thead><tbody><tr><td>202306</td><td>202306</td><td>&quot;MA&quot;</td><td>262</td><td>&quot;TURILANDIA&quot;</td><td>&quot;&quot;</td><td>20683055296</td><td>&quot;JOSE NALDAM SOARES BRITO&quot;</td><td>4514.0</td></tr></tbody></table></div>"
      ],
      "text/plain": [
       "shape: (1, 9)\n",
       "┌────────────┬────────────┬─────┬────────────┬───┬────────────┬────────────┬───────────┬───────────┐\n",
       "│ MÊS COMPET ┆ MÊS        ┆ UF  ┆ CÓDIGO     ┆ … ┆ CPF        ┆ NIS        ┆ NOME FAVO ┆ VALOR     │\n",
       "│ ÊNCIA      ┆ REFERÊNCIA ┆ --- ┆ MUNICÍPIO  ┆   ┆ FAVORECIDO ┆ FAVORECIDO ┆ RECIDO    ┆ PARCELA   │\n",
       "│ ---        ┆ ---        ┆ str ┆ SIAFI      ┆   ┆ ---        ┆ ---        ┆ ---       ┆ ---       │\n",
       "│ i64        ┆ i64        ┆     ┆ ---        ┆   ┆ str        ┆ i64        ┆ str       ┆ f64       │\n",
       "│            ┆            ┆     ┆ i64        ┆   ┆            ┆            ┆           ┆           │\n",
       "╞════════════╪════════════╪═════╪════════════╪═══╪════════════╪════════════╪═══════════╪═══════════╡\n",
       "│ 202306     ┆ 202306     ┆ MA  ┆ 262        ┆ … ┆            ┆ 2068305529 ┆ JOSE      ┆ 4514.0    │\n",
       "│            ┆            ┆     ┆            ┆   ┆            ┆ 6          ┆ NALDAM    ┆           │\n",
       "│            ┆            ┆     ┆            ┆   ┆            ┆            ┆ SOARES    ┆           │\n",
       "│            ┆            ┆     ┆            ┆   ┆            ┆            ┆ BRITO     ┆           │\n",
       "└────────────┴────────────┴─────┴────────────┴───┴────────────┴────────────┴───────────┴───────────┘"
      ]
     },
     "metadata": {},
     "output_type": "display_data"
    }
   ],
   "source": [
    "display(df_polars.filter(pl.col(\"VALOR PARCELA\")==4514.0))"
   ]
  },
  {
   "cell_type": "code",
   "execution_count": 37,
   "metadata": {},
   "outputs": [
    {
     "data": {
      "text/html": [
       "<div><style>\n",
       ".dataframe > thead > tr,\n",
       ".dataframe > tbody > tr {\n",
       "  text-align: right;\n",
       "  white-space: pre-wrap;\n",
       "}\n",
       "</style>\n",
       "<small>shape: (27, 10)</small><table border=\"1\" class=\"dataframe\"><thead><tr><th>Sigla</th><th>Código</th><th>Estado</th><th>1991</th><th>1996</th><th>2000</th><th>2007</th><th>2010</th><th>2022</th><th></th></tr><tr><td>str</td><td>i64</td><td>str</td><td>i64</td><td>i64</td><td>i64</td><td>i64</td><td>i64</td><td>i64</td><td>str</td></tr></thead><tbody><tr><td>&quot;AC&quot;</td><td>12</td><td>&quot;Acre&quot;</td><td>417718</td><td>483593</td><td>557882</td><td>655385</td><td>733559</td><td>830018</td><td>null</td></tr><tr><td>&quot;AL&quot;</td><td>27</td><td>&quot;Alagoas&quot;</td><td>2514100</td><td>2633251</td><td>2827856</td><td>3037103</td><td>3120494</td><td>3127683</td><td>null</td></tr><tr><td>&quot;AM&quot;</td><td>13</td><td>&quot;Amazonas&quot;</td><td>2103243</td><td>2389279</td><td>2817252</td><td>3221939</td><td>3483985</td><td>3941613</td><td>null</td></tr><tr><td>&quot;AP&quot;</td><td>16</td><td>&quot;Amapá&quot;</td><td>289397</td><td>379459</td><td>477032</td><td>587311</td><td>669526</td><td>733759</td><td>null</td></tr><tr><td>&quot;BA&quot;</td><td>29</td><td>&quot;Bahia&quot;</td><td>11867991</td><td>12541675</td><td>13085769</td><td>14080654</td><td>14016906</td><td>14141626</td><td>null</td></tr><tr><td>&hellip;</td><td>&hellip;</td><td>&hellip;</td><td>&hellip;</td><td>&hellip;</td><td>&hellip;</td><td>&hellip;</td><td>&hellip;</td><td>&hellip;</td><td>&hellip;</td></tr><tr><td>&quot;RS&quot;</td><td>43</td><td>&quot;Rio Grande do Sul&quot;</td><td>9138670</td><td>9634688</td><td>10187842</td><td>10582840</td><td>10693929</td><td>10882965</td><td>null</td></tr><tr><td>&quot;SC&quot;</td><td>42</td><td>&quot;Santa Catarina&quot;</td><td>4541994</td><td>4875244</td><td>5357864</td><td>5866252</td><td>6248436</td><td>7610361</td><td>null</td></tr><tr><td>&quot;SE&quot;</td><td>28</td><td>&quot;Sergipe&quot;</td><td>1491876</td><td>1624020</td><td>1784829</td><td>1939426</td><td>2068017</td><td>2210004</td><td>null</td></tr><tr><td>&quot;SP&quot;</td><td>35</td><td>&quot;São Paulo&quot;</td><td>31588925</td><td>34119110</td><td>37035456</td><td>39827570</td><td>41262199</td><td>44411238</td><td>null</td></tr><tr><td>&quot;TO&quot;</td><td>17</td><td>&quot;Tocantins&quot;</td><td>919863</td><td>1048642</td><td>1157690</td><td>1243627</td><td>1383445</td><td>1511460</td><td>null</td></tr></tbody></table></div>"
      ],
      "text/plain": [
       "shape: (27, 10)\n",
       "┌───────┬────────┬───────────────────┬──────────┬───┬──────────┬──────────┬──────────┬──────┐\n",
       "│ Sigla ┆ Código ┆ Estado            ┆ 1991     ┆ … ┆ 2007     ┆ 2010     ┆ 2022     ┆      │\n",
       "│ ---   ┆ ---    ┆ ---               ┆ ---      ┆   ┆ ---      ┆ ---      ┆ ---      ┆ ---  │\n",
       "│ str   ┆ i64    ┆ str               ┆ i64      ┆   ┆ i64      ┆ i64      ┆ i64      ┆ str  │\n",
       "╞═══════╪════════╪═══════════════════╪══════════╪═══╪══════════╪══════════╪══════════╪══════╡\n",
       "│ AC    ┆ 12     ┆ Acre              ┆ 417718   ┆ … ┆ 655385   ┆ 733559   ┆ 830018   ┆ null │\n",
       "│ AL    ┆ 27     ┆ Alagoas           ┆ 2514100  ┆ … ┆ 3037103  ┆ 3120494  ┆ 3127683  ┆ null │\n",
       "│ AM    ┆ 13     ┆ Amazonas          ┆ 2103243  ┆ … ┆ 3221939  ┆ 3483985  ┆ 3941613  ┆ null │\n",
       "│ AP    ┆ 16     ┆ Amapá             ┆ 289397   ┆ … ┆ 587311   ┆ 669526   ┆ 733759   ┆ null │\n",
       "│ BA    ┆ 29     ┆ Bahia             ┆ 11867991 ┆ … ┆ 14080654 ┆ 14016906 ┆ 14141626 ┆ null │\n",
       "│ …     ┆ …      ┆ …                 ┆ …        ┆ … ┆ …        ┆ …        ┆ …        ┆ …    │\n",
       "│ RS    ┆ 43     ┆ Rio Grande do Sul ┆ 9138670  ┆ … ┆ 10582840 ┆ 10693929 ┆ 10882965 ┆ null │\n",
       "│ SC    ┆ 42     ┆ Santa Catarina    ┆ 4541994  ┆ … ┆ 5866252  ┆ 6248436  ┆ 7610361  ┆ null │\n",
       "│ SE    ┆ 28     ┆ Sergipe           ┆ 1491876  ┆ … ┆ 1939426  ┆ 2068017  ┆ 2210004  ┆ null │\n",
       "│ SP    ┆ 35     ┆ São Paulo         ┆ 31588925 ┆ … ┆ 39827570 ┆ 41262199 ┆ 44411238 ┆ null │\n",
       "│ TO    ┆ 17     ┆ Tocantins         ┆ 919863   ┆ … ┆ 1243627  ┆ 1383445  ┆ 1511460  ┆ null │\n",
       "└───────┴────────┴───────────────────┴──────────┴───┴──────────┴──────────┴──────────┴──────┘"
      ]
     },
     "metadata": {},
     "output_type": "display_data"
    }
   ],
   "source": [
    "populacao = pl.read_csv(\"ipeadata22.csv\", separator=\";\", encoding=\"utf-8\")\n",
    "display(populacao)"
   ]
  },
  {
   "cell_type": "code",
   "execution_count": 38,
   "metadata": {},
   "outputs": [
    {
     "data": {
      "text/html": [
       "<div><style>\n",
       ".dataframe > thead > tr,\n",
       ".dataframe > tbody > tr {\n",
       "  text-align: right;\n",
       "  white-space: pre-wrap;\n",
       "}\n",
       "</style>\n",
       "<small>shape: (27, 2)</small><table border=\"1\" class=\"dataframe\"><thead><tr><th>Sigla</th><th>2022</th></tr><tr><td>str</td><td>list[i64]</td></tr></thead><tbody><tr><td>&quot;AC&quot;</td><td>[830018]</td></tr><tr><td>&quot;AL&quot;</td><td>[3127683]</td></tr><tr><td>&quot;AM&quot;</td><td>[3941613]</td></tr><tr><td>&quot;AP&quot;</td><td>[733759]</td></tr><tr><td>&quot;BA&quot;</td><td>[14141626]</td></tr><tr><td>&hellip;</td><td>&hellip;</td></tr><tr><td>&quot;RS&quot;</td><td>[10882965]</td></tr><tr><td>&quot;SC&quot;</td><td>[7610361]</td></tr><tr><td>&quot;SE&quot;</td><td>[2210004]</td></tr><tr><td>&quot;SP&quot;</td><td>[44411238]</td></tr><tr><td>&quot;TO&quot;</td><td>[1511460]</td></tr></tbody></table></div>"
      ],
      "text/plain": [
       "shape: (27, 2)\n",
       "┌───────┬────────────┐\n",
       "│ Sigla ┆ 2022       │\n",
       "│ ---   ┆ ---        │\n",
       "│ str   ┆ list[i64]  │\n",
       "╞═══════╪════════════╡\n",
       "│ AC    ┆ [830018]   │\n",
       "│ AL    ┆ [3127683]  │\n",
       "│ AM    ┆ [3941613]  │\n",
       "│ AP    ┆ [733759]   │\n",
       "│ BA    ┆ [14141626] │\n",
       "│ …     ┆ …          │\n",
       "│ RS    ┆ [10882965] │\n",
       "│ SC    ┆ [7610361]  │\n",
       "│ SE    ┆ [2210004]  │\n",
       "│ SP    ┆ [44411238] │\n",
       "│ TO    ┆ [1511460]  │\n",
       "└───────┴────────────┘"
      ]
     },
     "metadata": {},
     "output_type": "display_data"
    }
   ],
   "source": [
    "df_populacao = populacao.group_by('Sigla').agg(pl.col('2022'))\n",
    "df_populacao = df_populacao.sort(\"Sigla\")\n",
    "\n",
    "display(df_populacao)"
   ]
  },
  {
   "cell_type": "code",
   "execution_count": 44,
   "metadata": {},
   "outputs": [
    {
     "data": {
      "text/html": [
       "<div><style>\n",
       ".dataframe > thead > tr,\n",
       ".dataframe > tbody > tr {\n",
       "  text-align: right;\n",
       "  white-space: pre-wrap;\n",
       "}\n",
       "</style>\n",
       "<small>shape: (27, 2)</small><table border=\"1\" class=\"dataframe\"><thead><tr><th>UF</th><th>VALOR PARCELA</th></tr><tr><td>str</td><td>f64</td></tr></thead><tbody><tr><td>&quot;AC&quot;</td><td>2.62741007e8</td></tr><tr><td>&quot;AL&quot;</td><td>1.0445e9</td></tr><tr><td>&quot;AM&quot;</td><td>1.2524e9</td></tr><tr><td>&quot;AP&quot;</td><td>2.44063734e8</td></tr><tr><td>&quot;BA&quot;</td><td>4.7907e9</td></tr><tr><td>&hellip;</td><td>&hellip;</td></tr><tr><td>&quot;RS&quot;</td><td>1.1444e9</td></tr><tr><td>&quot;SC&quot;</td><td>4.35326086e8</td></tr><tr><td>&quot;SE&quot;</td><td>7.39991894e8</td></tr><tr><td>&quot;SP&quot;</td><td>4.9071e9</td></tr><tr><td>&quot;TO&quot;</td><td>3.09269751e8</td></tr></tbody></table></div>"
      ],
      "text/plain": [
       "shape: (27, 2)\n",
       "┌─────┬───────────────┐\n",
       "│ UF  ┆ VALOR PARCELA │\n",
       "│ --- ┆ ---           │\n",
       "│ str ┆ f64           │\n",
       "╞═════╪═══════════════╡\n",
       "│ AC  ┆ 2.62741007e8  │\n",
       "│ AL  ┆ 1.0445e9      │\n",
       "│ AM  ┆ 1.2524e9      │\n",
       "│ AP  ┆ 2.44063734e8  │\n",
       "│ BA  ┆ 4.7907e9      │\n",
       "│ …   ┆ …             │\n",
       "│ RS  ┆ 1.1444e9      │\n",
       "│ SC  ┆ 4.35326086e8  │\n",
       "│ SE  ┆ 7.39991894e8  │\n",
       "│ SP  ┆ 4.9071e9      │\n",
       "│ TO  ┆ 3.09269751e8  │\n",
       "└─────┴───────────────┘"
      ]
     },
     "metadata": {},
     "output_type": "display_data"
    }
   ],
   "source": [
    "dado_valor = df_polars.group_by('UF').agg(pl.col('VALOR PARCELA').sum())\n",
    "dado_valor = dado_valor.sort(\"UF\")\n",
    "\n",
    "display(dado_valor)\n",
    "\n"
   ]
  },
  {
   "cell_type": "code",
   "execution_count": 41,
   "metadata": {},
   "outputs": [],
   "source": [
    "import numpy as np\n",
    "import scipy\n",
    "from scipy.stats import pearsonr"
   ]
  },
  {
   "cell_type": "code",
   "execution_count": 42,
   "metadata": {},
   "outputs": [
    {
     "name": "stdout",
     "output_type": "stream",
     "text": [
      "shape: (27,)\n",
      "Series: '2022' [list[i64]]\n",
      "[\n",
      "\t[830018]\n",
      "\t[3127683]\n",
      "\t[3941613]\n",
      "\t[733759]\n",
      "\t[14141626]\n",
      "\t…\n",
      "\t[10882965]\n",
      "\t[7610361]\n",
      "\t[2210004]\n",
      "\t[44411238]\n",
      "\t[1511460]\n",
      "]\n"
     ]
    }
   ],
   "source": [
    "#Correlação de Pearson\n",
    "\n",
    "coluna_2022 = df_populacao['2022']\n",
    "print(coluna_2022)\n",
    "\n"
   ]
  },
  {
   "cell_type": "code",
   "execution_count": 45,
   "metadata": {},
   "outputs": [
    {
     "name": "stdout",
     "output_type": "stream",
     "text": [
      "shape: (27,)\n",
      "Series: 'VALOR PARCELA' [f64]\n",
      "[\n",
      "\t2.62741007e8\n",
      "\t1.0445e9\n",
      "\t1.2524e9\n",
      "\t2.44063734e8\n",
      "\t4.7907e9\n",
      "\t…\n",
      "\t1.1444e9\n",
      "\t4.35326086e8\n",
      "\t7.39991894e8\n",
      "\t4.9071e9\n",
      "\t3.09269751e8\n",
      "]\n"
     ]
    }
   ],
   "source": [
    "coluna_valor = dado_valor['VALOR PARCELA']\n",
    "print(coluna_valor)"
   ]
  },
  {
   "cell_type": "code",
   "execution_count": 49,
   "metadata": {},
   "outputs": [
    {
     "data": {
      "text/html": [
       "<div>\n",
       "<style scoped>\n",
       "    .dataframe tbody tr th:only-of-type {\n",
       "        vertical-align: middle;\n",
       "    }\n",
       "\n",
       "    .dataframe tbody tr th {\n",
       "        vertical-align: top;\n",
       "    }\n",
       "\n",
       "    .dataframe thead th {\n",
       "        text-align: right;\n",
       "    }\n",
       "</style>\n",
       "<table border=\"1\" class=\"dataframe\">\n",
       "  <thead>\n",
       "    <tr style=\"text-align: right;\">\n",
       "      <th></th>\n",
       "      <th>0</th>\n",
       "      <th>1</th>\n",
       "      <th>2</th>\n",
       "      <th>3</th>\n",
       "      <th>4</th>\n",
       "      <th>5</th>\n",
       "      <th>6</th>\n",
       "      <th>7</th>\n",
       "      <th>8</th>\n",
       "      <th>9</th>\n",
       "      <th>...</th>\n",
       "      <th>17</th>\n",
       "      <th>18</th>\n",
       "      <th>19</th>\n",
       "      <th>20</th>\n",
       "      <th>21</th>\n",
       "      <th>22</th>\n",
       "      <th>23</th>\n",
       "      <th>24</th>\n",
       "      <th>25</th>\n",
       "      <th>26</th>\n",
       "    </tr>\n",
       "  </thead>\n",
       "  <tbody>\n",
       "    <tr>\n",
       "      <th>0</th>\n",
       "      <td>[830018]</td>\n",
       "      <td>[3127683]</td>\n",
       "      <td>[3941613]</td>\n",
       "      <td>[733759]</td>\n",
       "      <td>[14141626]</td>\n",
       "      <td>[8794957]</td>\n",
       "      <td>[2817381]</td>\n",
       "      <td>[3833712]</td>\n",
       "      <td>[7056495]</td>\n",
       "      <td>[6776699]</td>\n",
       "      <td>...</td>\n",
       "      <td>[11444380]</td>\n",
       "      <td>[16055174]</td>\n",
       "      <td>[3302729]</td>\n",
       "      <td>[1581196]</td>\n",
       "      <td>[636707]</td>\n",
       "      <td>[10882965]</td>\n",
       "      <td>[7610361]</td>\n",
       "      <td>[2210004]</td>\n",
       "      <td>[44411238]</td>\n",
       "      <td>[1511460]</td>\n",
       "    </tr>\n",
       "    <tr>\n",
       "      <th>1</th>\n",
       "      <td>262741007.0</td>\n",
       "      <td>1044525775.0</td>\n",
       "      <td>1252351103.0</td>\n",
       "      <td>244063734.0</td>\n",
       "      <td>4790710455.0</td>\n",
       "      <td>2826432652.0</td>\n",
       "      <td>336133887.0</td>\n",
       "      <td>583224541.0</td>\n",
       "      <td>965645762.0</td>\n",
       "      <td>2322767005.0</td>\n",
       "      <td>...</td>\n",
       "      <td>1140629010.0</td>\n",
       "      <td>3368001017.0</td>\n",
       "      <td>944122515.0</td>\n",
       "      <td>246381155.0</td>\n",
       "      <td>139861012.0</td>\n",
       "      <td>1144398618.0</td>\n",
       "      <td>435326086.0</td>\n",
       "      <td>739991894.0</td>\n",
       "      <td>4907055539.0</td>\n",
       "      <td>309269751.0</td>\n",
       "    </tr>\n",
       "  </tbody>\n",
       "</table>\n",
       "<p>2 rows × 27 columns</p>\n",
       "</div>"
      ],
      "text/plain": [
       "            0             1             2            3             4   \\\n",
       "0     [830018]     [3127683]     [3941613]     [733759]    [14141626]   \n",
       "1  262741007.0  1044525775.0  1252351103.0  244063734.0  4790710455.0   \n",
       "\n",
       "             5            6            7            8             9   ...  \\\n",
       "0     [8794957]    [2817381]    [3833712]    [7056495]     [6776699]  ...   \n",
       "1  2826432652.0  336133887.0  583224541.0  965645762.0  2322767005.0  ...   \n",
       "\n",
       "             17            18           19           20           21  \\\n",
       "0    [11444380]    [16055174]    [3302729]    [1581196]     [636707]   \n",
       "1  1140629010.0  3368001017.0  944122515.0  246381155.0  139861012.0   \n",
       "\n",
       "             22           23           24            25           26  \n",
       "0    [10882965]    [7610361]    [2210004]    [44411238]    [1511460]  \n",
       "1  1144398618.0  435326086.0  739991894.0  4907055539.0  309269751.0  \n",
       "\n",
       "[2 rows x 27 columns]"
      ]
     },
     "metadata": {},
     "output_type": "display_data"
    }
   ],
   "source": [
    "dados=[coluna_2022, coluna_valor]\n",
    "df_dados=pd.DataFrame(dados)\n",
    "display(df_dados)"
   ]
  },
  {
   "cell_type": "code",
   "execution_count": 57,
   "metadata": {},
   "outputs": [
    {
     "name": "stdout",
     "output_type": "stream",
     "text": [
      "PearsonRResult(statistic=array([0.79569794]), pvalue=array([7.00336146e-07]))\n"
     ]
    }
   ],
   "source": [
    "correlacao = pearsonr(coluna_2022, coluna_valor)\n",
    "print(correlacao)"
   ]
  },
  {
   "cell_type": "code",
   "execution_count": 67,
   "metadata": {},
   "outputs": [
    {
     "data": {
      "image/png": "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",
      "text/plain": [
       "<Figure size 800x600 with 1 Axes>"
      ]
     },
     "metadata": {},
     "output_type": "display_data"
    }
   ],
   "source": [
    "#criando o gráfico de dispersão\n",
    "plt.figure(figsize=(8,6))\n",
    "plt.scatter(coluna_2022, coluna_valor,\n",
    "color='blue', label=f'r2={0.79569794**2:.2f}')\n",
    "plt.title('Correlação entre População 2022 e Valor Total do Bolsa Família por Estado')\n",
    "plt.xlabel('População')\n",
    "plt.ylabel('Valor Total Bolsa Família')\n",
    "plt.legend()\n",
    "plt.grid(True)\n",
    "plt.show()"
   ]
  }
 ],
 "metadata": {
  "kernelspec": {
   "display_name": "base",
   "language": "python",
   "name": "python3"
  },
  "language_info": {
   "codemirror_mode": {
    "name": "ipython",
    "version": 3
   },
   "file_extension": ".py",
   "mimetype": "text/x-python",
   "name": "python",
   "nbconvert_exporter": "python",
   "pygments_lexer": "ipython3",
   "version": "3.12.7"
  }
 },
 "nbformat": 4,
 "nbformat_minor": 2
}
